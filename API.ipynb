{
 "cells": [
  {
   "cell_type": "code",
   "execution_count": 19,
   "id": "dbda7c7a",
   "metadata": {},
   "outputs": [
    {
     "name": "stdout",
     "output_type": "stream",
     "text": [
      "Status Code: 200\n",
      "Total repositories: 443\n",
      "Complete results: True\n"
     ]
    },
    {
     "data": {
      "application/vnd.plotly.v1+json": {
       "config": {
        "plotlyServerURL": "https://plot.ly"
       },
       "data": [
        {
         "alignmentgroup": "True",
         "hovertemplate": "<b>%{hovertext}</b><br><br>Repository=%{x}<br>Stars=%{y}<extra></extra>",
         "hovertext": [
          "public-apis <br  /> A collective list of free APIs",
          "donnemartin <br  /> Learn how to design large-scale systems. Prep for the system design interview.  Includes Anki flashcards.",
          "vinta <br  /> A curated list of awesome Python frameworks, libraries, software and resources",
          "TheAlgorithms <br  /> All Algorithms implemented in Python",
          "jackfrued <br  /> Python - 100天从新手到大师",
          "ytdl-org <br  /> Command-line program to download videos from YouTube.com and other video sites",
          "AUTOMATIC1111 <br  /> Stable Diffusion web UI",
          "huggingface <br  /> 🤗 Transformers: State-of-the-art Machine Learning for Pytorch, TensorFlow, and JAX.",
          "521xueweihan <br  /> :octocat: 分享 GitHub 上有趣、入门级的开源项目。Share interesting, entry-level open source projects on GitHub.",
          "nvbn <br  /> Magnificent app which corrects your previous console command.",
          "langchain-ai <br  /> 🦜🔗 Build context-aware reasoning applications",
          "tensorflow <br  /> Models and examples built with TensorFlow",
          "django <br  /> The Web framework for perfectionists with deadlines.",
          "pytorch <br  /> Tensors and Dynamic neural networks in Python with strong GPU acceleration",
          "tiangolo <br  /> FastAPI framework, high performance, easy to learn, fast to code, ready for production",
          "home-assistant <br  /> :house_with_garden: Open source home automation that puts local control and privacy first.",
          "yt-dlp <br  /> A youtube-dl fork with additional features and fixes",
          "pallets <br  /> The Python micro framework for building web applications.",
          "josephmisiti <br  /> A curated list of awesome Machine Learning frameworks, libraries and software.",
          "bregman-arie <br  /> Linux, Jenkins, AWS, SRE, Prometheus, Docker, Python, Ansible, Git, Kubernetes, Terraform, OpenStack, SQL, NoSQL, Azure, GCP, DNS, Elastic, Network, Virtualization. DevOps Interview Questions",
          "fighting41love <br  /> 中英文敏感词、语言检测、中外手机/电话归属地/运营商查询、名字推断性别、手机号抽取、身份证抽取、邮箱抽取、中日文人名库、中文缩写库、拆字词典、词汇情感值、停用词、反动词表、暴恐词表、繁简体转换、英文模拟中文发音、汪峰歌词生成器、职业名称词库、同义词库、反义词库、否定词库、汽车品牌词库、汽车零件词库、连续英文切割、各种中文词向量、公司名字大全、古诗词库、IT词库、财经词库、成语词库、地名词库、历史名人词库、诗词词库、医学词库、饮食词库、法律词库、汽车词库、动物词库、中文聊天语料、中文谣言数据、百度中文问答数据集、句子相似度匹配算法集合、bert资源、文本生成&摘要相关工具、cocoNLP信息抽取工具、国内电话号码正则匹配、清华大学XLORE:中英文跨语言百科知识图谱、清华大学人工智能技术系列报告、自然语言生成、NLU太难了系列、自动对联数据及机器人、用户名黑名单列表、罪名法务名词及分类模型、微信公众号语料、cs224n深度学习自然语言处理课程、中文手写汉字识别、中文自然语言处理 语料/数据集、变量命名神器、分词语料库+代码、任务型对话英文数据集、ASR 语音数据集 + 基于深度学习的中文语音识别系统、笑声检测器、Microsoft多语言数字/单位/如日期时间识别包、中华新华字典数据库及api(包括常用歇后语、成语、词语和汉字)、文档图谱自动生成、SpaCy 中文模型、Common Voice语音识别数据集新版、神经网络关系抽取、基于bert的命名实体识别、关键词(Keyphrase)抽取包pke、基于医疗领域知识图谱的问答系统、基于依存句法与语义角色标注的事件三元组抽取、依存句法分析4万句高质量标注数据、cnocr：用来做中文OCR的Python3包、中文人物关系知识图谱项目、中文nlp竞赛项目及代码汇总、中文字符数据、speech-aligner: 从“人声语音”及其“语言文本”产生音素级别时间对齐标注的工具、AmpliGraph: 知识图谱表示学习(Python)库：知识图谱概念链接预测、Scattertext 文本可视化(python)、语言/知识表示工具：BERT & ERNIE、中文对比英文自然语言处理NLP的区别综述、Synonyms中文近义词工具包、HarvestText领域自适应文本挖掘工具（新词发现-情感分析-实体链接等）、word2word：(Python)方便易用的多语言词-词对集：62种语言/3,564个多语言对、语音识别语料生成工具：从具有音频/字幕的在线视频创建自动语音识别(ASR)语料库、构建医疗实体识别的模型（包含词典和语料标注）、单文档非监督的关键词抽取、Kashgari中使用gpt-2语言模型、开源的金融投资数据提取工具、文本自动摘要库TextTeaser: 仅支持英文、人民日报语料处理工具集、一些关于自然语言的基本模型、基于14W歌曲知识库的问答尝试--功能包括歌词接龙and已知歌词找歌曲以及歌曲歌手歌词三角关系的问答、基于Siamese bilstm模型的相似句子判定模型并提供训练数据集和测试数据集、用Transformer编解码模型实现的根据Hacker News文章标题自动生成评论、用BERT进行序列标记和文本分类的模板代码、LitBank：NLP数据集——支持自然语言处理和计算人文学科任务的100部带标记英文小说语料、百度开源的基准信息抽取系统、虚假新闻数据集、Facebook: LAMA语言模型分析，提供Transformer-XL/BERT/ELMo/GPT预训练语言模型的统一访问接口、CommonsenseQA：面向常识的英文QA挑战、中文知识图谱资料、数据及工具、各大公司内部里大牛分享的技术文档 PDF 或者 PPT、自然语言生成SQL语句（英文）、中文NLP数据增强（EDA）工具、英文NLP数据增强工具 、基于医药知识图谱的智能问答系统、京东商品知识图谱、基于mongodb存储的军事领域知识图谱问答项目、基于远监督的中文关系抽取、语音情感分析、中文ULMFiT-情感分析-文本分类-语料及模型、一个拍照做题程序、世界各国大规模人名库、一个利用有趣中文语料库 qingyun 训练出来的中文聊天机器人、中文聊天机器人seqGAN、省市区镇行政区划数据带拼音标注、教育行业新闻语料库包含自动文摘功能、开放了对话机器人-知识图谱-语义理解-自然语言处理工具及数据、中文知识图谱：基于百度百科中文页面-抽取三元组信息-构建中文知识图谱、masr: 中文语音识别-提供预训练模型-高识别率、Python音频数据增广库、中文全词覆盖BERT及两份阅读理解数据、ConvLab：开源多域端到端对话系统平台、中文自然语言处理数据集、基于最新版本rasa搭建的对话系统、基于TensorFlow和BERT的管道式实体及关系抽取、一个小型的证券知识图谱/知识库、复盘所有NLP比赛的TOP方案、OpenCLaP：多领域开源中文预训练语言模型仓库、UER：基于不同语料+编码器+目标任务的中文预训练模型仓库、中文自然语言处理向量合集、基于金融-司法领域(兼有闲聊性质)的聊天机器人、g2pC：基于上下文的汉语读音自动标记模块、Zincbase 知识图谱构建工具包、诗歌质量评价/细粒度情感诗歌语料库、快速转化「中文数字」和「阿拉伯数字」、百度知道问答语料库、基于知识图谱的问答系统、jieba_fast 加速版的jieba、正则表达式教程、中文阅读理解数据集、基于BERT等最新语言模型的抽取式摘要提取、Python利用深度学习进行文本摘要的综合指南、知识图谱深度学习相关资料整理、维基大规模平行文本语料、StanfordNLP 0.2.0：纯Python版自然语言处理包、NeuralNLP-NeuralClassifier：腾讯开源深度学习文本分类工具、端到端的封闭域对话系统、中文命名实体识别：NeuroNER vs. BertNER、新闻事件线索抽取、2019年百度的三元组抽取比赛：“科学空间队”源码、基于依存句法的开放域文本知识三元组抽取和知识库构建、中文的GPT2训练代码、ML-NLP - 机器学习(Machine Learning)NLP面试中常考到的知识点和代码实现、nlp4han:中文自然语言处理工具集(断句/分词/词性标注/组块/句法分析/语义分析/NER/N元语法/HMM/代词消解/情感分析/拼写检查、XLM：Facebook的跨语言预训练语言模型、用基于BERT的微调和特征提取方法来进行知识图谱百度百科人物词条属性抽取、中文自然语言处理相关的开放任务-数据集-当前最佳结果、CoupletAI - 基于CNN+Bi-LSTM+Attention 的自动对对联系统、抽象知识图谱、MiningZhiDaoQACorpus - 580万百度知道问答数据挖掘项目、brat rapid annotation tool: 序列标注工具、大规模中文知识图谱数据：1.4亿实体、数据增强在机器翻译及其他nlp任务中的应用及效果、allennlp阅读理解:支持多种数据和模型、PDF表格数据提取工具 、 Graphbrain：AI开源软件库和科研工具，目的是促进自动意义提取和文本理解以及知识的探索和推断、简历自动筛选系统、基于命名实体识别的简历自动摘要、中文语言理解测评基准，包括代表性的数据集&基准模型&语料库&排行榜、树洞 OCR 文字识别 、从包含表格的扫描图片中识别表格和文字、语声迁移、Python口语自然语言处理工具集(英文)、 similarity：相似度计算工具包，java编写、海量中文预训练ALBERT模型 、Transformers 2.0 、基于大规模音频数据集Audioset的音频增强 、Poplar：网页版自然语言标注工具、图片文字去除，可用于漫画翻译 、186种语言的数字叫法库、Amazon发布基于知识的人-人开放领域对话数据集 、中文文本纠错模块代码、繁简体转换 、 Python实现的多种文本可读性评价指标、类似于人名/地名/组织机构名的命名体识别数据集 、东南大学《知识图谱》研究生课程(资料)、. 英文拼写检查库 、 wwsearch是企业微信后台自研的全文检索引擎、CHAMELEON：深度学习新闻推荐系统元架构 、 8篇论文梳理BERT相关模型进展与反思、DocSearch：免费文档搜索引擎、 LIDA：轻量交互式对话标注工具 、aili - the fastest in-memory index in the East 东半球最快并发索引 、知识图谱车音工作项目、自然语言生成资源大全 、中日韩分词库mecab的Python接口库、中文文本摘要/关键词提取、汉字字符特征提取器 (featurizer)，提取汉字的特征（发音特征、字形特征）用做深度学习的特征、中文生成任务基准测评 、中文缩写数据集、中文任务基准测评 - 代表性的数据集-基准(预训练)模型-语料库-baseline-工具包-排行榜、PySS3：面向可解释AI的SS3文本分类器机器可视化工具 、中文NLP数据集列表、COPE - 格律诗编辑程序、doccano：基于网页的开源协同多语言文本标注工具 、PreNLP：自然语言预处理库、简单的简历解析器，用来从简历中提取关键信息、用于中文闲聊的GPT2模型：GPT2-chitchat、基于检索聊天机器人多轮响应选择相关资源列表(Leaderboards、Datasets、Papers)、(Colab)抽象文本摘要实现集锦(教程 、词语拼音数据、高效模糊搜索工具、NLP数据增广资源集、微软对话机器人框架 、 GitHub Typo Corpus：大规模GitHub多语言拼写错误/语法错误数据集、TextCluster：短文本聚类预处理模块 Short text cluster、面向语音识别的中文文本规范化、BLINK：最先进的实体链接库、BertPunc：基于BERT的最先进标点修复模型、Tokenizer：快速、可定制的文本词条化库、中文语言理解测评基准，包括代表性的数据集、基准(预训练)模型、语料库、排行榜、spaCy 医学文本挖掘与信息提取 、 NLP任务示例项目代码集、 python拼写检查库、chatbot-list - 行业内关于智能客服、聊天机器人的应用和架构、算法分享和介绍、语音质量评价指标(MOSNet, BSSEval, STOI, PESQ, SRMR)、 用138GB语料训练的法文RoBERTa预训练语言模型 、BERT-NER-Pytorch：三种不同模式的BERT中文NER实验、无道词典 - 有道词典的命令行版本，支持英汉互查和在线查询、2019年NLP亮点回顾、 Chinese medical dialogue data 中文医疗对话数据集 、最好的汉字数字(中文数字)-阿拉伯数字转换工具、 基于百科知识库的中文词语多词义/义项获取与特定句子词语语义消歧、awesome-nlp-sentiment-analysis - 情感分析、情绪原因识别、评价对象和评价词抽取、LineFlow：面向所有深度学习框架的NLP数据高效加载器、中文医学NLP公开资源整理 、MedQuAD：(英文)医学问答数据集、将自然语言数字串解析转换为整数和浮点数、Transfer Learning in Natural Language Processing (NLP) 、面向语音识别的中文/英文发音辞典、Tokenizers：注重性能与多功能性的最先进分词器、CLUENER 细粒度命名实体识别 Fine Grained Named Entity Recognition、 基于BERT的中文命名实体识别、中文谣言数据库、NLP数据集/基准任务大列表、nlp相关的一些论文及代码, 包括主题模型、词向量(Word Embedding)、命名实体识别(NER)、文本分类(Text Classificatin)、文本生成(Text Generation)、文本相似性(Text Similarity)计算等，涉及到各种与nlp相关的算法，基于keras和tensorflow 、Python文本挖掘/NLP实战示例、 Blackstone：面向非结构化法律文本的spaCy pipeline和NLP模型通过同义词替换实现文本“变脸” 、中文 预训练 ELECTREA 模型: 基于对抗学习 pretrain Chinese Model 、albert-chinese-ner - 用预训练语言模型ALBERT做中文NER 、基于GPT2的特定主题文本生成/文本增广、开源预训练语言模型合集、多语言句向量包、编码、标记和实现：一种可控高效的文本生成方法、 英文脏话大列表 、attnvis：GPT2、BERT等transformer语言模型注意力交互可视化、CoVoST：Facebook发布的多语种语音-文本翻译语料库，包括11种语言(法语、德语、荷兰语、俄语、西班牙语、意大利语、土耳其语、波斯语、瑞典语、蒙古语和中文)的语音、文字转录及英文译文、Jiagu自然语言处理工具 - 以BiLSTM等模型为基础，提供知识图谱关系抽取 中文分词 词性标注 命名实体识别 情感分析 新词发现 关键词 文本摘要 文本聚类等功能、用unet实现对文档表格的自动检测，表格重建、NLP事件提取文献资源列表 、 金融领域自然语言处理研究资源大列表、CLUEDatasetSearch - 中英文NLP数据集：搜索所有中文NLP数据集，附常用英文NLP数据集 、medical_NER - 中文医学知识图谱命名实体识别 、(哈佛)讲因果推理的免费书、知识图谱相关学习资料/数据集/工具资源大列表、Forte：灵活强大的自然语言处理pipeline工具集 、Python字符串相似性算法库、PyLaia：面向手写文档分析的深度学习工具包、TextFooler：针对文本分类/推理的对抗文本生成模块、Haystack：灵活、强大的可扩展问答(QA)框架、中文关键短语抽取工具",
          "ansible <br  /> Ansible is a radically simple IT automation platform that makes your applications and systems easier to deploy and maintain. Automate everything from code deployment to network configuration to cloud management, in a language that approaches plain English, using SSH, with no agents to install on remote systems. https://docs.ansible.com.",
          "keras-team <br  /> Deep Learning for humans",
          "python <br  /> The Python programming language",
          "scikit-learn <br  /> scikit-learn: machine learning in Python",
          "3b1b <br  /> Animation engine for explanatory math videos",
          "openai <br  /> Robust Speech Recognition via Large-Scale Weak Supervision",
          "swisskyrepo <br  /> A list of useful payloads and bypass for Web Application Security and Pentest/CTF",
          "d2l-ai <br  /> 《动手学深度学习》：面向中文读者、能运行、可讨论。中英文版被70多个国家的500多所大学用于教学。",
          "xtekky <br  /> The official gpt4free repository | various collection of powerful language models"
         ],
         "legendgroup": "",
         "marker": {
          "color": "#636efa",
          "pattern": {
           "shape": ""
          }
         },
         "name": "",
         "offsetgroup": "",
         "orientation": "v",
         "showlegend": false,
         "textposition": "auto",
         "type": "bar",
         "x": [
          "<a href='https://github.com/public-apis/public-apis'>public-apis</a>",
          "<a href='https://github.com/donnemartin/system-design-primer'>system-design-primer</a>",
          "<a href='https://github.com/vinta/awesome-python'>awesome-python</a>",
          "<a href='https://github.com/TheAlgorithms/Python'>Python</a>",
          "<a href='https://github.com/jackfrued/Python-100-Days'>Python-100-Days</a>",
          "<a href='https://github.com/ytdl-org/youtube-dl'>youtube-dl</a>",
          "<a href='https://github.com/AUTOMATIC1111/stable-diffusion-webui'>stable-diffusion-webui</a>",
          "<a href='https://github.com/huggingface/transformers'>transformers</a>",
          "<a href='https://github.com/521xueweihan/HelloGitHub'>HelloGitHub</a>",
          "<a href='https://github.com/nvbn/thefuck'>thefuck</a>",
          "<a href='https://github.com/langchain-ai/langchain'>langchain</a>",
          "<a href='https://github.com/tensorflow/models'>models</a>",
          "<a href='https://github.com/django/django'>django</a>",
          "<a href='https://github.com/pytorch/pytorch'>pytorch</a>",
          "<a href='https://github.com/tiangolo/fastapi'>fastapi</a>",
          "<a href='https://github.com/home-assistant/core'>core</a>",
          "<a href='https://github.com/yt-dlp/yt-dlp'>yt-dlp</a>",
          "<a href='https://github.com/pallets/flask'>flask</a>",
          "<a href='https://github.com/josephmisiti/awesome-machine-learning'>awesome-machine-learning</a>",
          "<a href='https://github.com/bregman-arie/devops-exercises'>devops-exercises</a>",
          "<a href='https://github.com/fighting41love/funNLP'>funNLP</a>",
          "<a href='https://github.com/ansible/ansible'>ansible</a>",
          "<a href='https://github.com/keras-team/keras'>keras</a>",
          "<a href='https://github.com/python/cpython'>cpython</a>",
          "<a href='https://github.com/scikit-learn/scikit-learn'>scikit-learn</a>",
          "<a href='https://github.com/3b1b/manim'>manim</a>",
          "<a href='https://github.com/openai/whisper'>whisper</a>",
          "<a href='https://github.com/swisskyrepo/PayloadsAllTheThings'>PayloadsAllTheThings</a>",
          "<a href='https://github.com/d2l-ai/d2l-zh'>d2l-zh</a>",
          "<a href='https://github.com/xtekky/gpt4free'>gpt4free</a>"
         ],
         "xaxis": "x",
         "y": [
          279967,
          247034,
          198423,
          175889,
          146624,
          127143,
          121889,
          120439,
          82233,
          81449,
          76968,
          76415,
          75667,
          75539,
          68394,
          67401,
          66445,
          65780,
          62780,
          61960,
          61708,
          60398,
          60308,
          58462,
          57430,
          56429,
          56227,
          55418,
          54016,
          53136
         ],
         "yaxis": "y"
        }
       ],
       "layout": {
        "barmode": "relative",
        "legend": {
         "tracegroupgap": 0
        },
        "template": {
         "data": {
          "bar": [
           {
            "error_x": {
             "color": "#2a3f5f"
            },
            "error_y": {
             "color": "#2a3f5f"
            },
            "marker": {
             "line": {
              "color": "#E5ECF6",
              "width": 0.5
             },
             "pattern": {
              "fillmode": "overlay",
              "size": 10,
              "solidity": 0.2
             }
            },
            "type": "bar"
           }
          ],
          "barpolar": [
           {
            "marker": {
             "line": {
              "color": "#E5ECF6",
              "width": 0.5
             },
             "pattern": {
              "fillmode": "overlay",
              "size": 10,
              "solidity": 0.2
             }
            },
            "type": "barpolar"
           }
          ],
          "carpet": [
           {
            "aaxis": {
             "endlinecolor": "#2a3f5f",
             "gridcolor": "white",
             "linecolor": "white",
             "minorgridcolor": "white",
             "startlinecolor": "#2a3f5f"
            },
            "baxis": {
             "endlinecolor": "#2a3f5f",
             "gridcolor": "white",
             "linecolor": "white",
             "minorgridcolor": "white",
             "startlinecolor": "#2a3f5f"
            },
            "type": "carpet"
           }
          ],
          "choropleth": [
           {
            "colorbar": {
             "outlinewidth": 0,
             "ticks": ""
            },
            "type": "choropleth"
           }
          ],
          "contour": [
           {
            "colorbar": {
             "outlinewidth": 0,
             "ticks": ""
            },
            "colorscale": [
             [
              0,
              "#0d0887"
             ],
             [
              0.1111111111111111,
              "#46039f"
             ],
             [
              0.2222222222222222,
              "#7201a8"
             ],
             [
              0.3333333333333333,
              "#9c179e"
             ],
             [
              0.4444444444444444,
              "#bd3786"
             ],
             [
              0.5555555555555556,
              "#d8576b"
             ],
             [
              0.6666666666666666,
              "#ed7953"
             ],
             [
              0.7777777777777778,
              "#fb9f3a"
             ],
             [
              0.8888888888888888,
              "#fdca26"
             ],
             [
              1,
              "#f0f921"
             ]
            ],
            "type": "contour"
           }
          ],
          "contourcarpet": [
           {
            "colorbar": {
             "outlinewidth": 0,
             "ticks": ""
            },
            "type": "contourcarpet"
           }
          ],
          "heatmap": [
           {
            "colorbar": {
             "outlinewidth": 0,
             "ticks": ""
            },
            "colorscale": [
             [
              0,
              "#0d0887"
             ],
             [
              0.1111111111111111,
              "#46039f"
             ],
             [
              0.2222222222222222,
              "#7201a8"
             ],
             [
              0.3333333333333333,
              "#9c179e"
             ],
             [
              0.4444444444444444,
              "#bd3786"
             ],
             [
              0.5555555555555556,
              "#d8576b"
             ],
             [
              0.6666666666666666,
              "#ed7953"
             ],
             [
              0.7777777777777778,
              "#fb9f3a"
             ],
             [
              0.8888888888888888,
              "#fdca26"
             ],
             [
              1,
              "#f0f921"
             ]
            ],
            "type": "heatmap"
           }
          ],
          "heatmapgl": [
           {
            "colorbar": {
             "outlinewidth": 0,
             "ticks": ""
            },
            "colorscale": [
             [
              0,
              "#0d0887"
             ],
             [
              0.1111111111111111,
              "#46039f"
             ],
             [
              0.2222222222222222,
              "#7201a8"
             ],
             [
              0.3333333333333333,
              "#9c179e"
             ],
             [
              0.4444444444444444,
              "#bd3786"
             ],
             [
              0.5555555555555556,
              "#d8576b"
             ],
             [
              0.6666666666666666,
              "#ed7953"
             ],
             [
              0.7777777777777778,
              "#fb9f3a"
             ],
             [
              0.8888888888888888,
              "#fdca26"
             ],
             [
              1,
              "#f0f921"
             ]
            ],
            "type": "heatmapgl"
           }
          ],
          "histogram": [
           {
            "marker": {
             "pattern": {
              "fillmode": "overlay",
              "size": 10,
              "solidity": 0.2
             }
            },
            "type": "histogram"
           }
          ],
          "histogram2d": [
           {
            "colorbar": {
             "outlinewidth": 0,
             "ticks": ""
            },
            "colorscale": [
             [
              0,
              "#0d0887"
             ],
             [
              0.1111111111111111,
              "#46039f"
             ],
             [
              0.2222222222222222,
              "#7201a8"
             ],
             [
              0.3333333333333333,
              "#9c179e"
             ],
             [
              0.4444444444444444,
              "#bd3786"
             ],
             [
              0.5555555555555556,
              "#d8576b"
             ],
             [
              0.6666666666666666,
              "#ed7953"
             ],
             [
              0.7777777777777778,
              "#fb9f3a"
             ],
             [
              0.8888888888888888,
              "#fdca26"
             ],
             [
              1,
              "#f0f921"
             ]
            ],
            "type": "histogram2d"
           }
          ],
          "histogram2dcontour": [
           {
            "colorbar": {
             "outlinewidth": 0,
             "ticks": ""
            },
            "colorscale": [
             [
              0,
              "#0d0887"
             ],
             [
              0.1111111111111111,
              "#46039f"
             ],
             [
              0.2222222222222222,
              "#7201a8"
             ],
             [
              0.3333333333333333,
              "#9c179e"
             ],
             [
              0.4444444444444444,
              "#bd3786"
             ],
             [
              0.5555555555555556,
              "#d8576b"
             ],
             [
              0.6666666666666666,
              "#ed7953"
             ],
             [
              0.7777777777777778,
              "#fb9f3a"
             ],
             [
              0.8888888888888888,
              "#fdca26"
             ],
             [
              1,
              "#f0f921"
             ]
            ],
            "type": "histogram2dcontour"
           }
          ],
          "mesh3d": [
           {
            "colorbar": {
             "outlinewidth": 0,
             "ticks": ""
            },
            "type": "mesh3d"
           }
          ],
          "parcoords": [
           {
            "line": {
             "colorbar": {
              "outlinewidth": 0,
              "ticks": ""
             }
            },
            "type": "parcoords"
           }
          ],
          "pie": [
           {
            "automargin": true,
            "type": "pie"
           }
          ],
          "scatter": [
           {
            "fillpattern": {
             "fillmode": "overlay",
             "size": 10,
             "solidity": 0.2
            },
            "type": "scatter"
           }
          ],
          "scatter3d": [
           {
            "line": {
             "colorbar": {
              "outlinewidth": 0,
              "ticks": ""
             }
            },
            "marker": {
             "colorbar": {
              "outlinewidth": 0,
              "ticks": ""
             }
            },
            "type": "scatter3d"
           }
          ],
          "scattercarpet": [
           {
            "marker": {
             "colorbar": {
              "outlinewidth": 0,
              "ticks": ""
             }
            },
            "type": "scattercarpet"
           }
          ],
          "scattergeo": [
           {
            "marker": {
             "colorbar": {
              "outlinewidth": 0,
              "ticks": ""
             }
            },
            "type": "scattergeo"
           }
          ],
          "scattergl": [
           {
            "marker": {
             "colorbar": {
              "outlinewidth": 0,
              "ticks": ""
             }
            },
            "type": "scattergl"
           }
          ],
          "scattermapbox": [
           {
            "marker": {
             "colorbar": {
              "outlinewidth": 0,
              "ticks": ""
             }
            },
            "type": "scattermapbox"
           }
          ],
          "scatterpolar": [
           {
            "marker": {
             "colorbar": {
              "outlinewidth": 0,
              "ticks": ""
             }
            },
            "type": "scatterpolar"
           }
          ],
          "scatterpolargl": [
           {
            "marker": {
             "colorbar": {
              "outlinewidth": 0,
              "ticks": ""
             }
            },
            "type": "scatterpolargl"
           }
          ],
          "scatterternary": [
           {
            "marker": {
             "colorbar": {
              "outlinewidth": 0,
              "ticks": ""
             }
            },
            "type": "scatterternary"
           }
          ],
          "surface": [
           {
            "colorbar": {
             "outlinewidth": 0,
             "ticks": ""
            },
            "colorscale": [
             [
              0,
              "#0d0887"
             ],
             [
              0.1111111111111111,
              "#46039f"
             ],
             [
              0.2222222222222222,
              "#7201a8"
             ],
             [
              0.3333333333333333,
              "#9c179e"
             ],
             [
              0.4444444444444444,
              "#bd3786"
             ],
             [
              0.5555555555555556,
              "#d8576b"
             ],
             [
              0.6666666666666666,
              "#ed7953"
             ],
             [
              0.7777777777777778,
              "#fb9f3a"
             ],
             [
              0.8888888888888888,
              "#fdca26"
             ],
             [
              1,
              "#f0f921"
             ]
            ],
            "type": "surface"
           }
          ],
          "table": [
           {
            "cells": {
             "fill": {
              "color": "#EBF0F8"
             },
             "line": {
              "color": "white"
             }
            },
            "header": {
             "fill": {
              "color": "#C8D4E3"
             },
             "line": {
              "color": "white"
             }
            },
            "type": "table"
           }
          ]
         },
         "layout": {
          "annotationdefaults": {
           "arrowcolor": "#2a3f5f",
           "arrowhead": 0,
           "arrowwidth": 1
          },
          "autotypenumbers": "strict",
          "coloraxis": {
           "colorbar": {
            "outlinewidth": 0,
            "ticks": ""
           }
          },
          "colorscale": {
           "diverging": [
            [
             0,
             "#8e0152"
            ],
            [
             0.1,
             "#c51b7d"
            ],
            [
             0.2,
             "#de77ae"
            ],
            [
             0.3,
             "#f1b6da"
            ],
            [
             0.4,
             "#fde0ef"
            ],
            [
             0.5,
             "#f7f7f7"
            ],
            [
             0.6,
             "#e6f5d0"
            ],
            [
             0.7,
             "#b8e186"
            ],
            [
             0.8,
             "#7fbc41"
            ],
            [
             0.9,
             "#4d9221"
            ],
            [
             1,
             "#276419"
            ]
           ],
           "sequential": [
            [
             0,
             "#0d0887"
            ],
            [
             0.1111111111111111,
             "#46039f"
            ],
            [
             0.2222222222222222,
             "#7201a8"
            ],
            [
             0.3333333333333333,
             "#9c179e"
            ],
            [
             0.4444444444444444,
             "#bd3786"
            ],
            [
             0.5555555555555556,
             "#d8576b"
            ],
            [
             0.6666666666666666,
             "#ed7953"
            ],
            [
             0.7777777777777778,
             "#fb9f3a"
            ],
            [
             0.8888888888888888,
             "#fdca26"
            ],
            [
             1,
             "#f0f921"
            ]
           ],
           "sequentialminus": [
            [
             0,
             "#0d0887"
            ],
            [
             0.1111111111111111,
             "#46039f"
            ],
            [
             0.2222222222222222,
             "#7201a8"
            ],
            [
             0.3333333333333333,
             "#9c179e"
            ],
            [
             0.4444444444444444,
             "#bd3786"
            ],
            [
             0.5555555555555556,
             "#d8576b"
            ],
            [
             0.6666666666666666,
             "#ed7953"
            ],
            [
             0.7777777777777778,
             "#fb9f3a"
            ],
            [
             0.8888888888888888,
             "#fdca26"
            ],
            [
             1,
             "#f0f921"
            ]
           ]
          },
          "colorway": [
           "#636efa",
           "#EF553B",
           "#00cc96",
           "#ab63fa",
           "#FFA15A",
           "#19d3f3",
           "#FF6692",
           "#B6E880",
           "#FF97FF",
           "#FECB52"
          ],
          "font": {
           "color": "#2a3f5f"
          },
          "geo": {
           "bgcolor": "white",
           "lakecolor": "white",
           "landcolor": "#E5ECF6",
           "showlakes": true,
           "showland": true,
           "subunitcolor": "white"
          },
          "hoverlabel": {
           "align": "left"
          },
          "hovermode": "closest",
          "mapbox": {
           "style": "light"
          },
          "paper_bgcolor": "white",
          "plot_bgcolor": "#E5ECF6",
          "polar": {
           "angularaxis": {
            "gridcolor": "white",
            "linecolor": "white",
            "ticks": ""
           },
           "bgcolor": "#E5ECF6",
           "radialaxis": {
            "gridcolor": "white",
            "linecolor": "white",
            "ticks": ""
           }
          },
          "scene": {
           "xaxis": {
            "backgroundcolor": "#E5ECF6",
            "gridcolor": "white",
            "gridwidth": 2,
            "linecolor": "white",
            "showbackground": true,
            "ticks": "",
            "zerolinecolor": "white"
           },
           "yaxis": {
            "backgroundcolor": "#E5ECF6",
            "gridcolor": "white",
            "gridwidth": 2,
            "linecolor": "white",
            "showbackground": true,
            "ticks": "",
            "zerolinecolor": "white"
           },
           "zaxis": {
            "backgroundcolor": "#E5ECF6",
            "gridcolor": "white",
            "gridwidth": 2,
            "linecolor": "white",
            "showbackground": true,
            "ticks": "",
            "zerolinecolor": "white"
           }
          },
          "shapedefaults": {
           "line": {
            "color": "#2a3f5f"
           }
          },
          "ternary": {
           "aaxis": {
            "gridcolor": "white",
            "linecolor": "white",
            "ticks": ""
           },
           "baxis": {
            "gridcolor": "white",
            "linecolor": "white",
            "ticks": ""
           },
           "bgcolor": "#E5ECF6",
           "caxis": {
            "gridcolor": "white",
            "linecolor": "white",
            "ticks": ""
           }
          },
          "title": {
           "x": 0.05
          },
          "xaxis": {
           "automargin": true,
           "gridcolor": "white",
           "linecolor": "white",
           "ticks": "",
           "title": {
            "standoff": 15
           },
           "zerolinecolor": "white",
           "zerolinewidth": 2
          },
          "yaxis": {
           "automargin": true,
           "gridcolor": "white",
           "linecolor": "white",
           "ticks": "",
           "title": {
            "standoff": 15
           },
           "zerolinecolor": "white",
           "zerolinewidth": 2
          }
         }
        },
        "title": {
         "font": {
          "size": 28
         },
         "text": "Most-Starred Python Projects on GitHub"
        },
        "xaxis": {
         "anchor": "y",
         "domain": [
          0,
          1
         ],
         "title": {
          "font": {
           "size": 20
          },
          "text": "Repository"
         }
        },
        "yaxis": {
         "anchor": "x",
         "domain": [
          0,
          1
         ],
         "title": {
          "font": {
           "size": 20
          },
          "text": "Stars"
         }
        }
       }
      },
      "text/html": [
       "<div>                            <div id=\"de718da9-0929-478a-becb-a71f1fcf3340\" class=\"plotly-graph-div\" style=\"height:525px; width:100%;\"></div>            <script type=\"text/javascript\">                require([\"plotly\"], function(Plotly) {                    window.PLOTLYENV=window.PLOTLYENV || {};                                    if (document.getElementById(\"de718da9-0929-478a-becb-a71f1fcf3340\")) {                    Plotly.newPlot(                        \"de718da9-0929-478a-becb-a71f1fcf3340\",                        [{\"alignmentgroup\":\"True\",\"hovertemplate\":\"<b>%{hovertext}</b><br><br>Repository=%{x}<br>Stars=%{y}<extra></extra>\",\"hovertext\":[\"public-apis <br  /> A collective list of free APIs\",\"donnemartin <br  /> Learn how to design large-scale systems. Prep for the system design interview.  Includes Anki flashcards.\",\"vinta <br  /> A curated list of awesome Python frameworks, libraries, software and resources\",\"TheAlgorithms <br  /> All Algorithms implemented in Python\",\"jackfrued <br  /> Python - 100\\u5929\\u4ece\\u65b0\\u624b\\u5230\\u5927\\u5e08\",\"ytdl-org <br  /> Command-line program to download videos from YouTube.com and other video sites\",\"AUTOMATIC1111 <br  /> Stable Diffusion web UI\",\"huggingface <br  /> \\ud83e\\udd17 Transformers: State-of-the-art Machine Learning for Pytorch, TensorFlow, and JAX.\",\"521xueweihan <br  /> :octocat: \\u5206\\u4eab GitHub \\u4e0a\\u6709\\u8da3\\u3001\\u5165\\u95e8\\u7ea7\\u7684\\u5f00\\u6e90\\u9879\\u76ee\\u3002Share interesting, entry-level open source projects on GitHub.\",\"nvbn <br  /> Magnificent app which corrects your previous console command.\",\"langchain-ai <br  /> \\ud83e\\udd9c\\ud83d\\udd17 Build context-aware reasoning applications\",\"tensorflow <br  /> Models and examples built with TensorFlow\",\"django <br  /> The Web framework for perfectionists with deadlines.\",\"pytorch <br  /> Tensors and Dynamic neural networks in Python with strong GPU acceleration\",\"tiangolo <br  /> FastAPI framework, high performance, easy to learn, fast to code, ready for production\",\"home-assistant <br  /> :house_with_garden: Open source home automation that puts local control and privacy first.\",\"yt-dlp <br  /> A youtube-dl fork with additional features and fixes\",\"pallets <br  /> The Python micro framework for building web applications.\",\"josephmisiti <br  /> A curated list of awesome Machine Learning frameworks, libraries and software.\",\"bregman-arie <br  /> Linux, Jenkins, AWS, SRE, Prometheus, Docker, Python, Ansible, Git, Kubernetes, Terraform, OpenStack, SQL, NoSQL, Azure, GCP, DNS, Elastic, Network, Virtualization. DevOps Interview Questions\",\"fighting41love <br  /> \\u4e2d\\u82f1\\u6587\\u654f\\u611f\\u8bcd\\u3001\\u8bed\\u8a00\\u68c0\\u6d4b\\u3001\\u4e2d\\u5916\\u624b\\u673a/\\u7535\\u8bdd\\u5f52\\u5c5e\\u5730/\\u8fd0\\u8425\\u5546\\u67e5\\u8be2\\u3001\\u540d\\u5b57\\u63a8\\u65ad\\u6027\\u522b\\u3001\\u624b\\u673a\\u53f7\\u62bd\\u53d6\\u3001\\u8eab\\u4efd\\u8bc1\\u62bd\\u53d6\\u3001\\u90ae\\u7bb1\\u62bd\\u53d6\\u3001\\u4e2d\\u65e5\\u6587\\u4eba\\u540d\\u5e93\\u3001\\u4e2d\\u6587\\u7f29\\u5199\\u5e93\\u3001\\u62c6\\u5b57\\u8bcd\\u5178\\u3001\\u8bcd\\u6c47\\u60c5\\u611f\\u503c\\u3001\\u505c\\u7528\\u8bcd\\u3001\\u53cd\\u52a8\\u8bcd\\u8868\\u3001\\u66b4\\u6050\\u8bcd\\u8868\\u3001\\u7e41\\u7b80\\u4f53\\u8f6c\\u6362\\u3001\\u82f1\\u6587\\u6a21\\u62df\\u4e2d\\u6587\\u53d1\\u97f3\\u3001\\u6c6a\\u5cf0\\u6b4c\\u8bcd\\u751f\\u6210\\u5668\\u3001\\u804c\\u4e1a\\u540d\\u79f0\\u8bcd\\u5e93\\u3001\\u540c\\u4e49\\u8bcd\\u5e93\\u3001\\u53cd\\u4e49\\u8bcd\\u5e93\\u3001\\u5426\\u5b9a\\u8bcd\\u5e93\\u3001\\u6c7d\\u8f66\\u54c1\\u724c\\u8bcd\\u5e93\\u3001\\u6c7d\\u8f66\\u96f6\\u4ef6\\u8bcd\\u5e93\\u3001\\u8fde\\u7eed\\u82f1\\u6587\\u5207\\u5272\\u3001\\u5404\\u79cd\\u4e2d\\u6587\\u8bcd\\u5411\\u91cf\\u3001\\u516c\\u53f8\\u540d\\u5b57\\u5927\\u5168\\u3001\\u53e4\\u8bd7\\u8bcd\\u5e93\\u3001IT\\u8bcd\\u5e93\\u3001\\u8d22\\u7ecf\\u8bcd\\u5e93\\u3001\\u6210\\u8bed\\u8bcd\\u5e93\\u3001\\u5730\\u540d\\u8bcd\\u5e93\\u3001\\u5386\\u53f2\\u540d\\u4eba\\u8bcd\\u5e93\\u3001\\u8bd7\\u8bcd\\u8bcd\\u5e93\\u3001\\u533b\\u5b66\\u8bcd\\u5e93\\u3001\\u996e\\u98df\\u8bcd\\u5e93\\u3001\\u6cd5\\u5f8b\\u8bcd\\u5e93\\u3001\\u6c7d\\u8f66\\u8bcd\\u5e93\\u3001\\u52a8\\u7269\\u8bcd\\u5e93\\u3001\\u4e2d\\u6587\\u804a\\u5929\\u8bed\\u6599\\u3001\\u4e2d\\u6587\\u8c23\\u8a00\\u6570\\u636e\\u3001\\u767e\\u5ea6\\u4e2d\\u6587\\u95ee\\u7b54\\u6570\\u636e\\u96c6\\u3001\\u53e5\\u5b50\\u76f8\\u4f3c\\u5ea6\\u5339\\u914d\\u7b97\\u6cd5\\u96c6\\u5408\\u3001bert\\u8d44\\u6e90\\u3001\\u6587\\u672c\\u751f\\u6210&\\u6458\\u8981\\u76f8\\u5173\\u5de5\\u5177\\u3001cocoNLP\\u4fe1\\u606f\\u62bd\\u53d6\\u5de5\\u5177\\u3001\\u56fd\\u5185\\u7535\\u8bdd\\u53f7\\u7801\\u6b63\\u5219\\u5339\\u914d\\u3001\\u6e05\\u534e\\u5927\\u5b66XLORE:\\u4e2d\\u82f1\\u6587\\u8de8\\u8bed\\u8a00\\u767e\\u79d1\\u77e5\\u8bc6\\u56fe\\u8c31\\u3001\\u6e05\\u534e\\u5927\\u5b66\\u4eba\\u5de5\\u667a\\u80fd\\u6280\\u672f\\u7cfb\\u5217\\u62a5\\u544a\\u3001\\u81ea\\u7136\\u8bed\\u8a00\\u751f\\u6210\\u3001NLU\\u592a\\u96be\\u4e86\\u7cfb\\u5217\\u3001\\u81ea\\u52a8\\u5bf9\\u8054\\u6570\\u636e\\u53ca\\u673a\\u5668\\u4eba\\u3001\\u7528\\u6237\\u540d\\u9ed1\\u540d\\u5355\\u5217\\u8868\\u3001\\u7f6a\\u540d\\u6cd5\\u52a1\\u540d\\u8bcd\\u53ca\\u5206\\u7c7b\\u6a21\\u578b\\u3001\\u5fae\\u4fe1\\u516c\\u4f17\\u53f7\\u8bed\\u6599\\u3001cs224n\\u6df1\\u5ea6\\u5b66\\u4e60\\u81ea\\u7136\\u8bed\\u8a00\\u5904\\u7406\\u8bfe\\u7a0b\\u3001\\u4e2d\\u6587\\u624b\\u5199\\u6c49\\u5b57\\u8bc6\\u522b\\u3001\\u4e2d\\u6587\\u81ea\\u7136\\u8bed\\u8a00\\u5904\\u7406 \\u8bed\\u6599/\\u6570\\u636e\\u96c6\\u3001\\u53d8\\u91cf\\u547d\\u540d\\u795e\\u5668\\u3001\\u5206\\u8bcd\\u8bed\\u6599\\u5e93+\\u4ee3\\u7801\\u3001\\u4efb\\u52a1\\u578b\\u5bf9\\u8bdd\\u82f1\\u6587\\u6570\\u636e\\u96c6\\u3001ASR \\u8bed\\u97f3\\u6570\\u636e\\u96c6 + \\u57fa\\u4e8e\\u6df1\\u5ea6\\u5b66\\u4e60\\u7684\\u4e2d\\u6587\\u8bed\\u97f3\\u8bc6\\u522b\\u7cfb\\u7edf\\u3001\\u7b11\\u58f0\\u68c0\\u6d4b\\u5668\\u3001Microsoft\\u591a\\u8bed\\u8a00\\u6570\\u5b57/\\u5355\\u4f4d/\\u5982\\u65e5\\u671f\\u65f6\\u95f4\\u8bc6\\u522b\\u5305\\u3001\\u4e2d\\u534e\\u65b0\\u534e\\u5b57\\u5178\\u6570\\u636e\\u5e93\\u53caapi(\\u5305\\u62ec\\u5e38\\u7528\\u6b47\\u540e\\u8bed\\u3001\\u6210\\u8bed\\u3001\\u8bcd\\u8bed\\u548c\\u6c49\\u5b57)\\u3001\\u6587\\u6863\\u56fe\\u8c31\\u81ea\\u52a8\\u751f\\u6210\\u3001SpaCy \\u4e2d\\u6587\\u6a21\\u578b\\u3001Common Voice\\u8bed\\u97f3\\u8bc6\\u522b\\u6570\\u636e\\u96c6\\u65b0\\u7248\\u3001\\u795e\\u7ecf\\u7f51\\u7edc\\u5173\\u7cfb\\u62bd\\u53d6\\u3001\\u57fa\\u4e8ebert\\u7684\\u547d\\u540d\\u5b9e\\u4f53\\u8bc6\\u522b\\u3001\\u5173\\u952e\\u8bcd(Keyphrase)\\u62bd\\u53d6\\u5305pke\\u3001\\u57fa\\u4e8e\\u533b\\u7597\\u9886\\u57df\\u77e5\\u8bc6\\u56fe\\u8c31\\u7684\\u95ee\\u7b54\\u7cfb\\u7edf\\u3001\\u57fa\\u4e8e\\u4f9d\\u5b58\\u53e5\\u6cd5\\u4e0e\\u8bed\\u4e49\\u89d2\\u8272\\u6807\\u6ce8\\u7684\\u4e8b\\u4ef6\\u4e09\\u5143\\u7ec4\\u62bd\\u53d6\\u3001\\u4f9d\\u5b58\\u53e5\\u6cd5\\u5206\\u67904\\u4e07\\u53e5\\u9ad8\\u8d28\\u91cf\\u6807\\u6ce8\\u6570\\u636e\\u3001cnocr\\uff1a\\u7528\\u6765\\u505a\\u4e2d\\u6587OCR\\u7684Python3\\u5305\\u3001\\u4e2d\\u6587\\u4eba\\u7269\\u5173\\u7cfb\\u77e5\\u8bc6\\u56fe\\u8c31\\u9879\\u76ee\\u3001\\u4e2d\\u6587nlp\\u7ade\\u8d5b\\u9879\\u76ee\\u53ca\\u4ee3\\u7801\\u6c47\\u603b\\u3001\\u4e2d\\u6587\\u5b57\\u7b26\\u6570\\u636e\\u3001speech-aligner: \\u4ece\\u201c\\u4eba\\u58f0\\u8bed\\u97f3\\u201d\\u53ca\\u5176\\u201c\\u8bed\\u8a00\\u6587\\u672c\\u201d\\u4ea7\\u751f\\u97f3\\u7d20\\u7ea7\\u522b\\u65f6\\u95f4\\u5bf9\\u9f50\\u6807\\u6ce8\\u7684\\u5de5\\u5177\\u3001AmpliGraph: \\u77e5\\u8bc6\\u56fe\\u8c31\\u8868\\u793a\\u5b66\\u4e60(Python)\\u5e93\\uff1a\\u77e5\\u8bc6\\u56fe\\u8c31\\u6982\\u5ff5\\u94fe\\u63a5\\u9884\\u6d4b\\u3001Scattertext \\u6587\\u672c\\u53ef\\u89c6\\u5316(python)\\u3001\\u8bed\\u8a00/\\u77e5\\u8bc6\\u8868\\u793a\\u5de5\\u5177\\uff1aBERT & ERNIE\\u3001\\u4e2d\\u6587\\u5bf9\\u6bd4\\u82f1\\u6587\\u81ea\\u7136\\u8bed\\u8a00\\u5904\\u7406NLP\\u7684\\u533a\\u522b\\u7efc\\u8ff0\\u3001Synonyms\\u4e2d\\u6587\\u8fd1\\u4e49\\u8bcd\\u5de5\\u5177\\u5305\\u3001HarvestText\\u9886\\u57df\\u81ea\\u9002\\u5e94\\u6587\\u672c\\u6316\\u6398\\u5de5\\u5177\\uff08\\u65b0\\u8bcd\\u53d1\\u73b0-\\u60c5\\u611f\\u5206\\u6790-\\u5b9e\\u4f53\\u94fe\\u63a5\\u7b49\\uff09\\u3001word2word\\uff1a(Python)\\u65b9\\u4fbf\\u6613\\u7528\\u7684\\u591a\\u8bed\\u8a00\\u8bcd-\\u8bcd\\u5bf9\\u96c6\\uff1a62\\u79cd\\u8bed\\u8a00/3,564\\u4e2a\\u591a\\u8bed\\u8a00\\u5bf9\\u3001\\u8bed\\u97f3\\u8bc6\\u522b\\u8bed\\u6599\\u751f\\u6210\\u5de5\\u5177\\uff1a\\u4ece\\u5177\\u6709\\u97f3\\u9891/\\u5b57\\u5e55\\u7684\\u5728\\u7ebf\\u89c6\\u9891\\u521b\\u5efa\\u81ea\\u52a8\\u8bed\\u97f3\\u8bc6\\u522b(ASR)\\u8bed\\u6599\\u5e93\\u3001\\u6784\\u5efa\\u533b\\u7597\\u5b9e\\u4f53\\u8bc6\\u522b\\u7684\\u6a21\\u578b\\uff08\\u5305\\u542b\\u8bcd\\u5178\\u548c\\u8bed\\u6599\\u6807\\u6ce8\\uff09\\u3001\\u5355\\u6587\\u6863\\u975e\\u76d1\\u7763\\u7684\\u5173\\u952e\\u8bcd\\u62bd\\u53d6\\u3001Kashgari\\u4e2d\\u4f7f\\u7528gpt-2\\u8bed\\u8a00\\u6a21\\u578b\\u3001\\u5f00\\u6e90\\u7684\\u91d1\\u878d\\u6295\\u8d44\\u6570\\u636e\\u63d0\\u53d6\\u5de5\\u5177\\u3001\\u6587\\u672c\\u81ea\\u52a8\\u6458\\u8981\\u5e93TextTeaser: \\u4ec5\\u652f\\u6301\\u82f1\\u6587\\u3001\\u4eba\\u6c11\\u65e5\\u62a5\\u8bed\\u6599\\u5904\\u7406\\u5de5\\u5177\\u96c6\\u3001\\u4e00\\u4e9b\\u5173\\u4e8e\\u81ea\\u7136\\u8bed\\u8a00\\u7684\\u57fa\\u672c\\u6a21\\u578b\\u3001\\u57fa\\u4e8e14W\\u6b4c\\u66f2\\u77e5\\u8bc6\\u5e93\\u7684\\u95ee\\u7b54\\u5c1d\\u8bd5--\\u529f\\u80fd\\u5305\\u62ec\\u6b4c\\u8bcd\\u63a5\\u9f99and\\u5df2\\u77e5\\u6b4c\\u8bcd\\u627e\\u6b4c\\u66f2\\u4ee5\\u53ca\\u6b4c\\u66f2\\u6b4c\\u624b\\u6b4c\\u8bcd\\u4e09\\u89d2\\u5173\\u7cfb\\u7684\\u95ee\\u7b54\\u3001\\u57fa\\u4e8eSiamese bilstm\\u6a21\\u578b\\u7684\\u76f8\\u4f3c\\u53e5\\u5b50\\u5224\\u5b9a\\u6a21\\u578b\\u5e76\\u63d0\\u4f9b\\u8bad\\u7ec3\\u6570\\u636e\\u96c6\\u548c\\u6d4b\\u8bd5\\u6570\\u636e\\u96c6\\u3001\\u7528Transformer\\u7f16\\u89e3\\u7801\\u6a21\\u578b\\u5b9e\\u73b0\\u7684\\u6839\\u636eHacker News\\u6587\\u7ae0\\u6807\\u9898\\u81ea\\u52a8\\u751f\\u6210\\u8bc4\\u8bba\\u3001\\u7528BERT\\u8fdb\\u884c\\u5e8f\\u5217\\u6807\\u8bb0\\u548c\\u6587\\u672c\\u5206\\u7c7b\\u7684\\u6a21\\u677f\\u4ee3\\u7801\\u3001LitBank\\uff1aNLP\\u6570\\u636e\\u96c6\\u2014\\u2014\\u652f\\u6301\\u81ea\\u7136\\u8bed\\u8a00\\u5904\\u7406\\u548c\\u8ba1\\u7b97\\u4eba\\u6587\\u5b66\\u79d1\\u4efb\\u52a1\\u7684100\\u90e8\\u5e26\\u6807\\u8bb0\\u82f1\\u6587\\u5c0f\\u8bf4\\u8bed\\u6599\\u3001\\u767e\\u5ea6\\u5f00\\u6e90\\u7684\\u57fa\\u51c6\\u4fe1\\u606f\\u62bd\\u53d6\\u7cfb\\u7edf\\u3001\\u865a\\u5047\\u65b0\\u95fb\\u6570\\u636e\\u96c6\\u3001Facebook: LAMA\\u8bed\\u8a00\\u6a21\\u578b\\u5206\\u6790\\uff0c\\u63d0\\u4f9bTransformer-XL/BERT/ELMo/GPT\\u9884\\u8bad\\u7ec3\\u8bed\\u8a00\\u6a21\\u578b\\u7684\\u7edf\\u4e00\\u8bbf\\u95ee\\u63a5\\u53e3\\u3001CommonsenseQA\\uff1a\\u9762\\u5411\\u5e38\\u8bc6\\u7684\\u82f1\\u6587QA\\u6311\\u6218\\u3001\\u4e2d\\u6587\\u77e5\\u8bc6\\u56fe\\u8c31\\u8d44\\u6599\\u3001\\u6570\\u636e\\u53ca\\u5de5\\u5177\\u3001\\u5404\\u5927\\u516c\\u53f8\\u5185\\u90e8\\u91cc\\u5927\\u725b\\u5206\\u4eab\\u7684\\u6280\\u672f\\u6587\\u6863 PDF \\u6216\\u8005 PPT\\u3001\\u81ea\\u7136\\u8bed\\u8a00\\u751f\\u6210SQL\\u8bed\\u53e5\\uff08\\u82f1\\u6587\\uff09\\u3001\\u4e2d\\u6587NLP\\u6570\\u636e\\u589e\\u5f3a\\uff08EDA\\uff09\\u5de5\\u5177\\u3001\\u82f1\\u6587NLP\\u6570\\u636e\\u589e\\u5f3a\\u5de5\\u5177 \\u3001\\u57fa\\u4e8e\\u533b\\u836f\\u77e5\\u8bc6\\u56fe\\u8c31\\u7684\\u667a\\u80fd\\u95ee\\u7b54\\u7cfb\\u7edf\\u3001\\u4eac\\u4e1c\\u5546\\u54c1\\u77e5\\u8bc6\\u56fe\\u8c31\\u3001\\u57fa\\u4e8emongodb\\u5b58\\u50a8\\u7684\\u519b\\u4e8b\\u9886\\u57df\\u77e5\\u8bc6\\u56fe\\u8c31\\u95ee\\u7b54\\u9879\\u76ee\\u3001\\u57fa\\u4e8e\\u8fdc\\u76d1\\u7763\\u7684\\u4e2d\\u6587\\u5173\\u7cfb\\u62bd\\u53d6\\u3001\\u8bed\\u97f3\\u60c5\\u611f\\u5206\\u6790\\u3001\\u4e2d\\u6587ULMFiT-\\u60c5\\u611f\\u5206\\u6790-\\u6587\\u672c\\u5206\\u7c7b-\\u8bed\\u6599\\u53ca\\u6a21\\u578b\\u3001\\u4e00\\u4e2a\\u62cd\\u7167\\u505a\\u9898\\u7a0b\\u5e8f\\u3001\\u4e16\\u754c\\u5404\\u56fd\\u5927\\u89c4\\u6a21\\u4eba\\u540d\\u5e93\\u3001\\u4e00\\u4e2a\\u5229\\u7528\\u6709\\u8da3\\u4e2d\\u6587\\u8bed\\u6599\\u5e93 qingyun \\u8bad\\u7ec3\\u51fa\\u6765\\u7684\\u4e2d\\u6587\\u804a\\u5929\\u673a\\u5668\\u4eba\\u3001\\u4e2d\\u6587\\u804a\\u5929\\u673a\\u5668\\u4ebaseqGAN\\u3001\\u7701\\u5e02\\u533a\\u9547\\u884c\\u653f\\u533a\\u5212\\u6570\\u636e\\u5e26\\u62fc\\u97f3\\u6807\\u6ce8\\u3001\\u6559\\u80b2\\u884c\\u4e1a\\u65b0\\u95fb\\u8bed\\u6599\\u5e93\\u5305\\u542b\\u81ea\\u52a8\\u6587\\u6458\\u529f\\u80fd\\u3001\\u5f00\\u653e\\u4e86\\u5bf9\\u8bdd\\u673a\\u5668\\u4eba-\\u77e5\\u8bc6\\u56fe\\u8c31-\\u8bed\\u4e49\\u7406\\u89e3-\\u81ea\\u7136\\u8bed\\u8a00\\u5904\\u7406\\u5de5\\u5177\\u53ca\\u6570\\u636e\\u3001\\u4e2d\\u6587\\u77e5\\u8bc6\\u56fe\\u8c31\\uff1a\\u57fa\\u4e8e\\u767e\\u5ea6\\u767e\\u79d1\\u4e2d\\u6587\\u9875\\u9762-\\u62bd\\u53d6\\u4e09\\u5143\\u7ec4\\u4fe1\\u606f-\\u6784\\u5efa\\u4e2d\\u6587\\u77e5\\u8bc6\\u56fe\\u8c31\\u3001masr: \\u4e2d\\u6587\\u8bed\\u97f3\\u8bc6\\u522b-\\u63d0\\u4f9b\\u9884\\u8bad\\u7ec3\\u6a21\\u578b-\\u9ad8\\u8bc6\\u522b\\u7387\\u3001Python\\u97f3\\u9891\\u6570\\u636e\\u589e\\u5e7f\\u5e93\\u3001\\u4e2d\\u6587\\u5168\\u8bcd\\u8986\\u76d6BERT\\u53ca\\u4e24\\u4efd\\u9605\\u8bfb\\u7406\\u89e3\\u6570\\u636e\\u3001ConvLab\\uff1a\\u5f00\\u6e90\\u591a\\u57df\\u7aef\\u5230\\u7aef\\u5bf9\\u8bdd\\u7cfb\\u7edf\\u5e73\\u53f0\\u3001\\u4e2d\\u6587\\u81ea\\u7136\\u8bed\\u8a00\\u5904\\u7406\\u6570\\u636e\\u96c6\\u3001\\u57fa\\u4e8e\\u6700\\u65b0\\u7248\\u672crasa\\u642d\\u5efa\\u7684\\u5bf9\\u8bdd\\u7cfb\\u7edf\\u3001\\u57fa\\u4e8eTensorFlow\\u548cBERT\\u7684\\u7ba1\\u9053\\u5f0f\\u5b9e\\u4f53\\u53ca\\u5173\\u7cfb\\u62bd\\u53d6\\u3001\\u4e00\\u4e2a\\u5c0f\\u578b\\u7684\\u8bc1\\u5238\\u77e5\\u8bc6\\u56fe\\u8c31/\\u77e5\\u8bc6\\u5e93\\u3001\\u590d\\u76d8\\u6240\\u6709NLP\\u6bd4\\u8d5b\\u7684TOP\\u65b9\\u6848\\u3001OpenCLaP\\uff1a\\u591a\\u9886\\u57df\\u5f00\\u6e90\\u4e2d\\u6587\\u9884\\u8bad\\u7ec3\\u8bed\\u8a00\\u6a21\\u578b\\u4ed3\\u5e93\\u3001UER\\uff1a\\u57fa\\u4e8e\\u4e0d\\u540c\\u8bed\\u6599+\\u7f16\\u7801\\u5668+\\u76ee\\u6807\\u4efb\\u52a1\\u7684\\u4e2d\\u6587\\u9884\\u8bad\\u7ec3\\u6a21\\u578b\\u4ed3\\u5e93\\u3001\\u4e2d\\u6587\\u81ea\\u7136\\u8bed\\u8a00\\u5904\\u7406\\u5411\\u91cf\\u5408\\u96c6\\u3001\\u57fa\\u4e8e\\u91d1\\u878d-\\u53f8\\u6cd5\\u9886\\u57df(\\u517c\\u6709\\u95f2\\u804a\\u6027\\u8d28)\\u7684\\u804a\\u5929\\u673a\\u5668\\u4eba\\u3001g2pC\\uff1a\\u57fa\\u4e8e\\u4e0a\\u4e0b\\u6587\\u7684\\u6c49\\u8bed\\u8bfb\\u97f3\\u81ea\\u52a8\\u6807\\u8bb0\\u6a21\\u5757\\u3001Zincbase \\u77e5\\u8bc6\\u56fe\\u8c31\\u6784\\u5efa\\u5de5\\u5177\\u5305\\u3001\\u8bd7\\u6b4c\\u8d28\\u91cf\\u8bc4\\u4ef7/\\u7ec6\\u7c92\\u5ea6\\u60c5\\u611f\\u8bd7\\u6b4c\\u8bed\\u6599\\u5e93\\u3001\\u5feb\\u901f\\u8f6c\\u5316\\u300c\\u4e2d\\u6587\\u6570\\u5b57\\u300d\\u548c\\u300c\\u963f\\u62c9\\u4f2f\\u6570\\u5b57\\u300d\\u3001\\u767e\\u5ea6\\u77e5\\u9053\\u95ee\\u7b54\\u8bed\\u6599\\u5e93\\u3001\\u57fa\\u4e8e\\u77e5\\u8bc6\\u56fe\\u8c31\\u7684\\u95ee\\u7b54\\u7cfb\\u7edf\\u3001jieba_fast \\u52a0\\u901f\\u7248\\u7684jieba\\u3001\\u6b63\\u5219\\u8868\\u8fbe\\u5f0f\\u6559\\u7a0b\\u3001\\u4e2d\\u6587\\u9605\\u8bfb\\u7406\\u89e3\\u6570\\u636e\\u96c6\\u3001\\u57fa\\u4e8eBERT\\u7b49\\u6700\\u65b0\\u8bed\\u8a00\\u6a21\\u578b\\u7684\\u62bd\\u53d6\\u5f0f\\u6458\\u8981\\u63d0\\u53d6\\u3001Python\\u5229\\u7528\\u6df1\\u5ea6\\u5b66\\u4e60\\u8fdb\\u884c\\u6587\\u672c\\u6458\\u8981\\u7684\\u7efc\\u5408\\u6307\\u5357\\u3001\\u77e5\\u8bc6\\u56fe\\u8c31\\u6df1\\u5ea6\\u5b66\\u4e60\\u76f8\\u5173\\u8d44\\u6599\\u6574\\u7406\\u3001\\u7ef4\\u57fa\\u5927\\u89c4\\u6a21\\u5e73\\u884c\\u6587\\u672c\\u8bed\\u6599\\u3001StanfordNLP 0.2.0\\uff1a\\u7eafPython\\u7248\\u81ea\\u7136\\u8bed\\u8a00\\u5904\\u7406\\u5305\\u3001NeuralNLP-NeuralClassifier\\uff1a\\u817e\\u8baf\\u5f00\\u6e90\\u6df1\\u5ea6\\u5b66\\u4e60\\u6587\\u672c\\u5206\\u7c7b\\u5de5\\u5177\\u3001\\u7aef\\u5230\\u7aef\\u7684\\u5c01\\u95ed\\u57df\\u5bf9\\u8bdd\\u7cfb\\u7edf\\u3001\\u4e2d\\u6587\\u547d\\u540d\\u5b9e\\u4f53\\u8bc6\\u522b\\uff1aNeuroNER vs. BertNER\\u3001\\u65b0\\u95fb\\u4e8b\\u4ef6\\u7ebf\\u7d22\\u62bd\\u53d6\\u30012019\\u5e74\\u767e\\u5ea6\\u7684\\u4e09\\u5143\\u7ec4\\u62bd\\u53d6\\u6bd4\\u8d5b\\uff1a\\u201c\\u79d1\\u5b66\\u7a7a\\u95f4\\u961f\\u201d\\u6e90\\u7801\\u3001\\u57fa\\u4e8e\\u4f9d\\u5b58\\u53e5\\u6cd5\\u7684\\u5f00\\u653e\\u57df\\u6587\\u672c\\u77e5\\u8bc6\\u4e09\\u5143\\u7ec4\\u62bd\\u53d6\\u548c\\u77e5\\u8bc6\\u5e93\\u6784\\u5efa\\u3001\\u4e2d\\u6587\\u7684GPT2\\u8bad\\u7ec3\\u4ee3\\u7801\\u3001ML-NLP - \\u673a\\u5668\\u5b66\\u4e60(Machine Learning)NLP\\u9762\\u8bd5\\u4e2d\\u5e38\\u8003\\u5230\\u7684\\u77e5\\u8bc6\\u70b9\\u548c\\u4ee3\\u7801\\u5b9e\\u73b0\\u3001nlp4han:\\u4e2d\\u6587\\u81ea\\u7136\\u8bed\\u8a00\\u5904\\u7406\\u5de5\\u5177\\u96c6(\\u65ad\\u53e5/\\u5206\\u8bcd/\\u8bcd\\u6027\\u6807\\u6ce8/\\u7ec4\\u5757/\\u53e5\\u6cd5\\u5206\\u6790/\\u8bed\\u4e49\\u5206\\u6790/NER/N\\u5143\\u8bed\\u6cd5/HMM/\\u4ee3\\u8bcd\\u6d88\\u89e3/\\u60c5\\u611f\\u5206\\u6790/\\u62fc\\u5199\\u68c0\\u67e5\\u3001XLM\\uff1aFacebook\\u7684\\u8de8\\u8bed\\u8a00\\u9884\\u8bad\\u7ec3\\u8bed\\u8a00\\u6a21\\u578b\\u3001\\u7528\\u57fa\\u4e8eBERT\\u7684\\u5fae\\u8c03\\u548c\\u7279\\u5f81\\u63d0\\u53d6\\u65b9\\u6cd5\\u6765\\u8fdb\\u884c\\u77e5\\u8bc6\\u56fe\\u8c31\\u767e\\u5ea6\\u767e\\u79d1\\u4eba\\u7269\\u8bcd\\u6761\\u5c5e\\u6027\\u62bd\\u53d6\\u3001\\u4e2d\\u6587\\u81ea\\u7136\\u8bed\\u8a00\\u5904\\u7406\\u76f8\\u5173\\u7684\\u5f00\\u653e\\u4efb\\u52a1-\\u6570\\u636e\\u96c6-\\u5f53\\u524d\\u6700\\u4f73\\u7ed3\\u679c\\u3001CoupletAI - \\u57fa\\u4e8eCNN+Bi-LSTM+Attention \\u7684\\u81ea\\u52a8\\u5bf9\\u5bf9\\u8054\\u7cfb\\u7edf\\u3001\\u62bd\\u8c61\\u77e5\\u8bc6\\u56fe\\u8c31\\u3001MiningZhiDaoQACorpus - 580\\u4e07\\u767e\\u5ea6\\u77e5\\u9053\\u95ee\\u7b54\\u6570\\u636e\\u6316\\u6398\\u9879\\u76ee\\u3001brat rapid annotation tool: \\u5e8f\\u5217\\u6807\\u6ce8\\u5de5\\u5177\\u3001\\u5927\\u89c4\\u6a21\\u4e2d\\u6587\\u77e5\\u8bc6\\u56fe\\u8c31\\u6570\\u636e\\uff1a1.4\\u4ebf\\u5b9e\\u4f53\\u3001\\u6570\\u636e\\u589e\\u5f3a\\u5728\\u673a\\u5668\\u7ffb\\u8bd1\\u53ca\\u5176\\u4ed6nlp\\u4efb\\u52a1\\u4e2d\\u7684\\u5e94\\u7528\\u53ca\\u6548\\u679c\\u3001allennlp\\u9605\\u8bfb\\u7406\\u89e3:\\u652f\\u6301\\u591a\\u79cd\\u6570\\u636e\\u548c\\u6a21\\u578b\\u3001PDF\\u8868\\u683c\\u6570\\u636e\\u63d0\\u53d6\\u5de5\\u5177 \\u3001 Graphbrain\\uff1aAI\\u5f00\\u6e90\\u8f6f\\u4ef6\\u5e93\\u548c\\u79d1\\u7814\\u5de5\\u5177\\uff0c\\u76ee\\u7684\\u662f\\u4fc3\\u8fdb\\u81ea\\u52a8\\u610f\\u4e49\\u63d0\\u53d6\\u548c\\u6587\\u672c\\u7406\\u89e3\\u4ee5\\u53ca\\u77e5\\u8bc6\\u7684\\u63a2\\u7d22\\u548c\\u63a8\\u65ad\\u3001\\u7b80\\u5386\\u81ea\\u52a8\\u7b5b\\u9009\\u7cfb\\u7edf\\u3001\\u57fa\\u4e8e\\u547d\\u540d\\u5b9e\\u4f53\\u8bc6\\u522b\\u7684\\u7b80\\u5386\\u81ea\\u52a8\\u6458\\u8981\\u3001\\u4e2d\\u6587\\u8bed\\u8a00\\u7406\\u89e3\\u6d4b\\u8bc4\\u57fa\\u51c6\\uff0c\\u5305\\u62ec\\u4ee3\\u8868\\u6027\\u7684\\u6570\\u636e\\u96c6&\\u57fa\\u51c6\\u6a21\\u578b&\\u8bed\\u6599\\u5e93&\\u6392\\u884c\\u699c\\u3001\\u6811\\u6d1e OCR \\u6587\\u5b57\\u8bc6\\u522b \\u3001\\u4ece\\u5305\\u542b\\u8868\\u683c\\u7684\\u626b\\u63cf\\u56fe\\u7247\\u4e2d\\u8bc6\\u522b\\u8868\\u683c\\u548c\\u6587\\u5b57\\u3001\\u8bed\\u58f0\\u8fc1\\u79fb\\u3001Python\\u53e3\\u8bed\\u81ea\\u7136\\u8bed\\u8a00\\u5904\\u7406\\u5de5\\u5177\\u96c6(\\u82f1\\u6587)\\u3001 similarity\\uff1a\\u76f8\\u4f3c\\u5ea6\\u8ba1\\u7b97\\u5de5\\u5177\\u5305\\uff0cjava\\u7f16\\u5199\\u3001\\u6d77\\u91cf\\u4e2d\\u6587\\u9884\\u8bad\\u7ec3ALBERT\\u6a21\\u578b \\u3001Transformers 2.0 \\u3001\\u57fa\\u4e8e\\u5927\\u89c4\\u6a21\\u97f3\\u9891\\u6570\\u636e\\u96c6Audioset\\u7684\\u97f3\\u9891\\u589e\\u5f3a \\u3001Poplar\\uff1a\\u7f51\\u9875\\u7248\\u81ea\\u7136\\u8bed\\u8a00\\u6807\\u6ce8\\u5de5\\u5177\\u3001\\u56fe\\u7247\\u6587\\u5b57\\u53bb\\u9664\\uff0c\\u53ef\\u7528\\u4e8e\\u6f2b\\u753b\\u7ffb\\u8bd1 \\u3001186\\u79cd\\u8bed\\u8a00\\u7684\\u6570\\u5b57\\u53eb\\u6cd5\\u5e93\\u3001Amazon\\u53d1\\u5e03\\u57fa\\u4e8e\\u77e5\\u8bc6\\u7684\\u4eba-\\u4eba\\u5f00\\u653e\\u9886\\u57df\\u5bf9\\u8bdd\\u6570\\u636e\\u96c6 \\u3001\\u4e2d\\u6587\\u6587\\u672c\\u7ea0\\u9519\\u6a21\\u5757\\u4ee3\\u7801\\u3001\\u7e41\\u7b80\\u4f53\\u8f6c\\u6362 \\u3001 Python\\u5b9e\\u73b0\\u7684\\u591a\\u79cd\\u6587\\u672c\\u53ef\\u8bfb\\u6027\\u8bc4\\u4ef7\\u6307\\u6807\\u3001\\u7c7b\\u4f3c\\u4e8e\\u4eba\\u540d/\\u5730\\u540d/\\u7ec4\\u7ec7\\u673a\\u6784\\u540d\\u7684\\u547d\\u540d\\u4f53\\u8bc6\\u522b\\u6570\\u636e\\u96c6 \\u3001\\u4e1c\\u5357\\u5927\\u5b66\\u300a\\u77e5\\u8bc6\\u56fe\\u8c31\\u300b\\u7814\\u7a76\\u751f\\u8bfe\\u7a0b(\\u8d44\\u6599)\\u3001. \\u82f1\\u6587\\u62fc\\u5199\\u68c0\\u67e5\\u5e93 \\u3001 wwsearch\\u662f\\u4f01\\u4e1a\\u5fae\\u4fe1\\u540e\\u53f0\\u81ea\\u7814\\u7684\\u5168\\u6587\\u68c0\\u7d22\\u5f15\\u64ce\\u3001CHAMELEON\\uff1a\\u6df1\\u5ea6\\u5b66\\u4e60\\u65b0\\u95fb\\u63a8\\u8350\\u7cfb\\u7edf\\u5143\\u67b6\\u6784 \\u3001 8\\u7bc7\\u8bba\\u6587\\u68b3\\u7406BERT\\u76f8\\u5173\\u6a21\\u578b\\u8fdb\\u5c55\\u4e0e\\u53cd\\u601d\\u3001DocSearch\\uff1a\\u514d\\u8d39\\u6587\\u6863\\u641c\\u7d22\\u5f15\\u64ce\\u3001 LIDA\\uff1a\\u8f7b\\u91cf\\u4ea4\\u4e92\\u5f0f\\u5bf9\\u8bdd\\u6807\\u6ce8\\u5de5\\u5177 \\u3001aili - the fastest in-memory index in the East \\u4e1c\\u534a\\u7403\\u6700\\u5feb\\u5e76\\u53d1\\u7d22\\u5f15 \\u3001\\u77e5\\u8bc6\\u56fe\\u8c31\\u8f66\\u97f3\\u5de5\\u4f5c\\u9879\\u76ee\\u3001\\u81ea\\u7136\\u8bed\\u8a00\\u751f\\u6210\\u8d44\\u6e90\\u5927\\u5168 \\u3001\\u4e2d\\u65e5\\u97e9\\u5206\\u8bcd\\u5e93mecab\\u7684Python\\u63a5\\u53e3\\u5e93\\u3001\\u4e2d\\u6587\\u6587\\u672c\\u6458\\u8981/\\u5173\\u952e\\u8bcd\\u63d0\\u53d6\\u3001\\u6c49\\u5b57\\u5b57\\u7b26\\u7279\\u5f81\\u63d0\\u53d6\\u5668 (featurizer)\\uff0c\\u63d0\\u53d6\\u6c49\\u5b57\\u7684\\u7279\\u5f81\\uff08\\u53d1\\u97f3\\u7279\\u5f81\\u3001\\u5b57\\u5f62\\u7279\\u5f81\\uff09\\u7528\\u505a\\u6df1\\u5ea6\\u5b66\\u4e60\\u7684\\u7279\\u5f81\\u3001\\u4e2d\\u6587\\u751f\\u6210\\u4efb\\u52a1\\u57fa\\u51c6\\u6d4b\\u8bc4 \\u3001\\u4e2d\\u6587\\u7f29\\u5199\\u6570\\u636e\\u96c6\\u3001\\u4e2d\\u6587\\u4efb\\u52a1\\u57fa\\u51c6\\u6d4b\\u8bc4 - \\u4ee3\\u8868\\u6027\\u7684\\u6570\\u636e\\u96c6-\\u57fa\\u51c6(\\u9884\\u8bad\\u7ec3)\\u6a21\\u578b-\\u8bed\\u6599\\u5e93-baseline-\\u5de5\\u5177\\u5305-\\u6392\\u884c\\u699c\\u3001PySS3\\uff1a\\u9762\\u5411\\u53ef\\u89e3\\u91caAI\\u7684SS3\\u6587\\u672c\\u5206\\u7c7b\\u5668\\u673a\\u5668\\u53ef\\u89c6\\u5316\\u5de5\\u5177 \\u3001\\u4e2d\\u6587NLP\\u6570\\u636e\\u96c6\\u5217\\u8868\\u3001COPE - \\u683c\\u5f8b\\u8bd7\\u7f16\\u8f91\\u7a0b\\u5e8f\\u3001doccano\\uff1a\\u57fa\\u4e8e\\u7f51\\u9875\\u7684\\u5f00\\u6e90\\u534f\\u540c\\u591a\\u8bed\\u8a00\\u6587\\u672c\\u6807\\u6ce8\\u5de5\\u5177 \\u3001PreNLP\\uff1a\\u81ea\\u7136\\u8bed\\u8a00\\u9884\\u5904\\u7406\\u5e93\\u3001\\u7b80\\u5355\\u7684\\u7b80\\u5386\\u89e3\\u6790\\u5668\\uff0c\\u7528\\u6765\\u4ece\\u7b80\\u5386\\u4e2d\\u63d0\\u53d6\\u5173\\u952e\\u4fe1\\u606f\\u3001\\u7528\\u4e8e\\u4e2d\\u6587\\u95f2\\u804a\\u7684GPT2\\u6a21\\u578b\\uff1aGPT2-chitchat\\u3001\\u57fa\\u4e8e\\u68c0\\u7d22\\u804a\\u5929\\u673a\\u5668\\u4eba\\u591a\\u8f6e\\u54cd\\u5e94\\u9009\\u62e9\\u76f8\\u5173\\u8d44\\u6e90\\u5217\\u8868(Leaderboards\\u3001Datasets\\u3001Papers)\\u3001(Colab)\\u62bd\\u8c61\\u6587\\u672c\\u6458\\u8981\\u5b9e\\u73b0\\u96c6\\u9526(\\u6559\\u7a0b \\u3001\\u8bcd\\u8bed\\u62fc\\u97f3\\u6570\\u636e\\u3001\\u9ad8\\u6548\\u6a21\\u7cca\\u641c\\u7d22\\u5de5\\u5177\\u3001NLP\\u6570\\u636e\\u589e\\u5e7f\\u8d44\\u6e90\\u96c6\\u3001\\u5fae\\u8f6f\\u5bf9\\u8bdd\\u673a\\u5668\\u4eba\\u6846\\u67b6 \\u3001 GitHub Typo Corpus\\uff1a\\u5927\\u89c4\\u6a21GitHub\\u591a\\u8bed\\u8a00\\u62fc\\u5199\\u9519\\u8bef/\\u8bed\\u6cd5\\u9519\\u8bef\\u6570\\u636e\\u96c6\\u3001TextCluster\\uff1a\\u77ed\\u6587\\u672c\\u805a\\u7c7b\\u9884\\u5904\\u7406\\u6a21\\u5757 Short text cluster\\u3001\\u9762\\u5411\\u8bed\\u97f3\\u8bc6\\u522b\\u7684\\u4e2d\\u6587\\u6587\\u672c\\u89c4\\u8303\\u5316\\u3001BLINK\\uff1a\\u6700\\u5148\\u8fdb\\u7684\\u5b9e\\u4f53\\u94fe\\u63a5\\u5e93\\u3001BertPunc\\uff1a\\u57fa\\u4e8eBERT\\u7684\\u6700\\u5148\\u8fdb\\u6807\\u70b9\\u4fee\\u590d\\u6a21\\u578b\\u3001Tokenizer\\uff1a\\u5feb\\u901f\\u3001\\u53ef\\u5b9a\\u5236\\u7684\\u6587\\u672c\\u8bcd\\u6761\\u5316\\u5e93\\u3001\\u4e2d\\u6587\\u8bed\\u8a00\\u7406\\u89e3\\u6d4b\\u8bc4\\u57fa\\u51c6\\uff0c\\u5305\\u62ec\\u4ee3\\u8868\\u6027\\u7684\\u6570\\u636e\\u96c6\\u3001\\u57fa\\u51c6(\\u9884\\u8bad\\u7ec3)\\u6a21\\u578b\\u3001\\u8bed\\u6599\\u5e93\\u3001\\u6392\\u884c\\u699c\\u3001spaCy \\u533b\\u5b66\\u6587\\u672c\\u6316\\u6398\\u4e0e\\u4fe1\\u606f\\u63d0\\u53d6 \\u3001 NLP\\u4efb\\u52a1\\u793a\\u4f8b\\u9879\\u76ee\\u4ee3\\u7801\\u96c6\\u3001 python\\u62fc\\u5199\\u68c0\\u67e5\\u5e93\\u3001chatbot-list - \\u884c\\u4e1a\\u5185\\u5173\\u4e8e\\u667a\\u80fd\\u5ba2\\u670d\\u3001\\u804a\\u5929\\u673a\\u5668\\u4eba\\u7684\\u5e94\\u7528\\u548c\\u67b6\\u6784\\u3001\\u7b97\\u6cd5\\u5206\\u4eab\\u548c\\u4ecb\\u7ecd\\u3001\\u8bed\\u97f3\\u8d28\\u91cf\\u8bc4\\u4ef7\\u6307\\u6807(MOSNet, BSSEval, STOI, PESQ, SRMR)\\u3001 \\u7528138GB\\u8bed\\u6599\\u8bad\\u7ec3\\u7684\\u6cd5\\u6587RoBERTa\\u9884\\u8bad\\u7ec3\\u8bed\\u8a00\\u6a21\\u578b \\u3001BERT-NER-Pytorch\\uff1a\\u4e09\\u79cd\\u4e0d\\u540c\\u6a21\\u5f0f\\u7684BERT\\u4e2d\\u6587NER\\u5b9e\\u9a8c\\u3001\\u65e0\\u9053\\u8bcd\\u5178 - \\u6709\\u9053\\u8bcd\\u5178\\u7684\\u547d\\u4ee4\\u884c\\u7248\\u672c\\uff0c\\u652f\\u6301\\u82f1\\u6c49\\u4e92\\u67e5\\u548c\\u5728\\u7ebf\\u67e5\\u8be2\\u30012019\\u5e74NLP\\u4eae\\u70b9\\u56de\\u987e\\u3001 Chinese medical dialogue data \\u4e2d\\u6587\\u533b\\u7597\\u5bf9\\u8bdd\\u6570\\u636e\\u96c6 \\u3001\\u6700\\u597d\\u7684\\u6c49\\u5b57\\u6570\\u5b57(\\u4e2d\\u6587\\u6570\\u5b57)-\\u963f\\u62c9\\u4f2f\\u6570\\u5b57\\u8f6c\\u6362\\u5de5\\u5177\\u3001 \\u57fa\\u4e8e\\u767e\\u79d1\\u77e5\\u8bc6\\u5e93\\u7684\\u4e2d\\u6587\\u8bcd\\u8bed\\u591a\\u8bcd\\u4e49/\\u4e49\\u9879\\u83b7\\u53d6\\u4e0e\\u7279\\u5b9a\\u53e5\\u5b50\\u8bcd\\u8bed\\u8bed\\u4e49\\u6d88\\u6b67\\u3001awesome-nlp-sentiment-analysis - \\u60c5\\u611f\\u5206\\u6790\\u3001\\u60c5\\u7eea\\u539f\\u56e0\\u8bc6\\u522b\\u3001\\u8bc4\\u4ef7\\u5bf9\\u8c61\\u548c\\u8bc4\\u4ef7\\u8bcd\\u62bd\\u53d6\\u3001LineFlow\\uff1a\\u9762\\u5411\\u6240\\u6709\\u6df1\\u5ea6\\u5b66\\u4e60\\u6846\\u67b6\\u7684NLP\\u6570\\u636e\\u9ad8\\u6548\\u52a0\\u8f7d\\u5668\\u3001\\u4e2d\\u6587\\u533b\\u5b66NLP\\u516c\\u5f00\\u8d44\\u6e90\\u6574\\u7406 \\u3001MedQuAD\\uff1a(\\u82f1\\u6587)\\u533b\\u5b66\\u95ee\\u7b54\\u6570\\u636e\\u96c6\\u3001\\u5c06\\u81ea\\u7136\\u8bed\\u8a00\\u6570\\u5b57\\u4e32\\u89e3\\u6790\\u8f6c\\u6362\\u4e3a\\u6574\\u6570\\u548c\\u6d6e\\u70b9\\u6570\\u3001Transfer Learning in Natural Language Processing (NLP) \\u3001\\u9762\\u5411\\u8bed\\u97f3\\u8bc6\\u522b\\u7684\\u4e2d\\u6587/\\u82f1\\u6587\\u53d1\\u97f3\\u8f9e\\u5178\\u3001Tokenizers\\uff1a\\u6ce8\\u91cd\\u6027\\u80fd\\u4e0e\\u591a\\u529f\\u80fd\\u6027\\u7684\\u6700\\u5148\\u8fdb\\u5206\\u8bcd\\u5668\\u3001CLUENER \\u7ec6\\u7c92\\u5ea6\\u547d\\u540d\\u5b9e\\u4f53\\u8bc6\\u522b Fine Grained Named Entity Recognition\\u3001 \\u57fa\\u4e8eBERT\\u7684\\u4e2d\\u6587\\u547d\\u540d\\u5b9e\\u4f53\\u8bc6\\u522b\\u3001\\u4e2d\\u6587\\u8c23\\u8a00\\u6570\\u636e\\u5e93\\u3001NLP\\u6570\\u636e\\u96c6/\\u57fa\\u51c6\\u4efb\\u52a1\\u5927\\u5217\\u8868\\u3001nlp\\u76f8\\u5173\\u7684\\u4e00\\u4e9b\\u8bba\\u6587\\u53ca\\u4ee3\\u7801, \\u5305\\u62ec\\u4e3b\\u9898\\u6a21\\u578b\\u3001\\u8bcd\\u5411\\u91cf(Word Embedding)\\u3001\\u547d\\u540d\\u5b9e\\u4f53\\u8bc6\\u522b(NER)\\u3001\\u6587\\u672c\\u5206\\u7c7b(Text Classificatin)\\u3001\\u6587\\u672c\\u751f\\u6210(Text Generation)\\u3001\\u6587\\u672c\\u76f8\\u4f3c\\u6027(Text Similarity)\\u8ba1\\u7b97\\u7b49\\uff0c\\u6d89\\u53ca\\u5230\\u5404\\u79cd\\u4e0enlp\\u76f8\\u5173\\u7684\\u7b97\\u6cd5\\uff0c\\u57fa\\u4e8ekeras\\u548ctensorflow \\u3001Python\\u6587\\u672c\\u6316\\u6398/NLP\\u5b9e\\u6218\\u793a\\u4f8b\\u3001 Blackstone\\uff1a\\u9762\\u5411\\u975e\\u7ed3\\u6784\\u5316\\u6cd5\\u5f8b\\u6587\\u672c\\u7684spaCy pipeline\\u548cNLP\\u6a21\\u578b\\u901a\\u8fc7\\u540c\\u4e49\\u8bcd\\u66ff\\u6362\\u5b9e\\u73b0\\u6587\\u672c\\u201c\\u53d8\\u8138\\u201d \\u3001\\u4e2d\\u6587 \\u9884\\u8bad\\u7ec3 ELECTREA \\u6a21\\u578b: \\u57fa\\u4e8e\\u5bf9\\u6297\\u5b66\\u4e60 pretrain Chinese Model \\u3001albert-chinese-ner - \\u7528\\u9884\\u8bad\\u7ec3\\u8bed\\u8a00\\u6a21\\u578bALBERT\\u505a\\u4e2d\\u6587NER \\u3001\\u57fa\\u4e8eGPT2\\u7684\\u7279\\u5b9a\\u4e3b\\u9898\\u6587\\u672c\\u751f\\u6210/\\u6587\\u672c\\u589e\\u5e7f\\u3001\\u5f00\\u6e90\\u9884\\u8bad\\u7ec3\\u8bed\\u8a00\\u6a21\\u578b\\u5408\\u96c6\\u3001\\u591a\\u8bed\\u8a00\\u53e5\\u5411\\u91cf\\u5305\\u3001\\u7f16\\u7801\\u3001\\u6807\\u8bb0\\u548c\\u5b9e\\u73b0\\uff1a\\u4e00\\u79cd\\u53ef\\u63a7\\u9ad8\\u6548\\u7684\\u6587\\u672c\\u751f\\u6210\\u65b9\\u6cd5\\u3001 \\u82f1\\u6587\\u810f\\u8bdd\\u5927\\u5217\\u8868 \\u3001attnvis\\uff1aGPT2\\u3001BERT\\u7b49transformer\\u8bed\\u8a00\\u6a21\\u578b\\u6ce8\\u610f\\u529b\\u4ea4\\u4e92\\u53ef\\u89c6\\u5316\\u3001CoVoST\\uff1aFacebook\\u53d1\\u5e03\\u7684\\u591a\\u8bed\\u79cd\\u8bed\\u97f3-\\u6587\\u672c\\u7ffb\\u8bd1\\u8bed\\u6599\\u5e93\\uff0c\\u5305\\u62ec11\\u79cd\\u8bed\\u8a00(\\u6cd5\\u8bed\\u3001\\u5fb7\\u8bed\\u3001\\u8377\\u5170\\u8bed\\u3001\\u4fc4\\u8bed\\u3001\\u897f\\u73ed\\u7259\\u8bed\\u3001\\u610f\\u5927\\u5229\\u8bed\\u3001\\u571f\\u8033\\u5176\\u8bed\\u3001\\u6ce2\\u65af\\u8bed\\u3001\\u745e\\u5178\\u8bed\\u3001\\u8499\\u53e4\\u8bed\\u548c\\u4e2d\\u6587)\\u7684\\u8bed\\u97f3\\u3001\\u6587\\u5b57\\u8f6c\\u5f55\\u53ca\\u82f1\\u6587\\u8bd1\\u6587\\u3001Jiagu\\u81ea\\u7136\\u8bed\\u8a00\\u5904\\u7406\\u5de5\\u5177 - \\u4ee5BiLSTM\\u7b49\\u6a21\\u578b\\u4e3a\\u57fa\\u7840\\uff0c\\u63d0\\u4f9b\\u77e5\\u8bc6\\u56fe\\u8c31\\u5173\\u7cfb\\u62bd\\u53d6 \\u4e2d\\u6587\\u5206\\u8bcd \\u8bcd\\u6027\\u6807\\u6ce8 \\u547d\\u540d\\u5b9e\\u4f53\\u8bc6\\u522b \\u60c5\\u611f\\u5206\\u6790 \\u65b0\\u8bcd\\u53d1\\u73b0 \\u5173\\u952e\\u8bcd \\u6587\\u672c\\u6458\\u8981 \\u6587\\u672c\\u805a\\u7c7b\\u7b49\\u529f\\u80fd\\u3001\\u7528unet\\u5b9e\\u73b0\\u5bf9\\u6587\\u6863\\u8868\\u683c\\u7684\\u81ea\\u52a8\\u68c0\\u6d4b\\uff0c\\u8868\\u683c\\u91cd\\u5efa\\u3001NLP\\u4e8b\\u4ef6\\u63d0\\u53d6\\u6587\\u732e\\u8d44\\u6e90\\u5217\\u8868 \\u3001 \\u91d1\\u878d\\u9886\\u57df\\u81ea\\u7136\\u8bed\\u8a00\\u5904\\u7406\\u7814\\u7a76\\u8d44\\u6e90\\u5927\\u5217\\u8868\\u3001CLUEDatasetSearch - \\u4e2d\\u82f1\\u6587NLP\\u6570\\u636e\\u96c6\\uff1a\\u641c\\u7d22\\u6240\\u6709\\u4e2d\\u6587NLP\\u6570\\u636e\\u96c6\\uff0c\\u9644\\u5e38\\u7528\\u82f1\\u6587NLP\\u6570\\u636e\\u96c6 \\u3001medical_NER - \\u4e2d\\u6587\\u533b\\u5b66\\u77e5\\u8bc6\\u56fe\\u8c31\\u547d\\u540d\\u5b9e\\u4f53\\u8bc6\\u522b \\u3001(\\u54c8\\u4f5b)\\u8bb2\\u56e0\\u679c\\u63a8\\u7406\\u7684\\u514d\\u8d39\\u4e66\\u3001\\u77e5\\u8bc6\\u56fe\\u8c31\\u76f8\\u5173\\u5b66\\u4e60\\u8d44\\u6599/\\u6570\\u636e\\u96c6/\\u5de5\\u5177\\u8d44\\u6e90\\u5927\\u5217\\u8868\\u3001Forte\\uff1a\\u7075\\u6d3b\\u5f3a\\u5927\\u7684\\u81ea\\u7136\\u8bed\\u8a00\\u5904\\u7406pipeline\\u5de5\\u5177\\u96c6 \\u3001Python\\u5b57\\u7b26\\u4e32\\u76f8\\u4f3c\\u6027\\u7b97\\u6cd5\\u5e93\\u3001PyLaia\\uff1a\\u9762\\u5411\\u624b\\u5199\\u6587\\u6863\\u5206\\u6790\\u7684\\u6df1\\u5ea6\\u5b66\\u4e60\\u5de5\\u5177\\u5305\\u3001TextFooler\\uff1a\\u9488\\u5bf9\\u6587\\u672c\\u5206\\u7c7b/\\u63a8\\u7406\\u7684\\u5bf9\\u6297\\u6587\\u672c\\u751f\\u6210\\u6a21\\u5757\\u3001Haystack\\uff1a\\u7075\\u6d3b\\u3001\\u5f3a\\u5927\\u7684\\u53ef\\u6269\\u5c55\\u95ee\\u7b54(QA)\\u6846\\u67b6\\u3001\\u4e2d\\u6587\\u5173\\u952e\\u77ed\\u8bed\\u62bd\\u53d6\\u5de5\\u5177\",\"ansible <br  /> Ansible is a radically simple IT automation platform that makes your applications and systems easier to deploy and maintain. Automate everything from code deployment to network configuration to cloud management, in a language that approaches plain English, using SSH, with no agents to install on remote systems. https://docs.ansible.com.\",\"keras-team <br  /> Deep Learning for humans\",\"python <br  /> The Python programming language\",\"scikit-learn <br  /> scikit-learn: machine learning in Python\",\"3b1b <br  /> Animation engine for explanatory math videos\",\"openai <br  /> Robust Speech Recognition via Large-Scale Weak Supervision\",\"swisskyrepo <br  /> A list of useful payloads and bypass for Web Application Security and Pentest/CTF\",\"d2l-ai <br  /> \\u300a\\u52a8\\u624b\\u5b66\\u6df1\\u5ea6\\u5b66\\u4e60\\u300b\\uff1a\\u9762\\u5411\\u4e2d\\u6587\\u8bfb\\u8005\\u3001\\u80fd\\u8fd0\\u884c\\u3001\\u53ef\\u8ba8\\u8bba\\u3002\\u4e2d\\u82f1\\u6587\\u7248\\u88ab70\\u591a\\u4e2a\\u56fd\\u5bb6\\u7684500\\u591a\\u6240\\u5927\\u5b66\\u7528\\u4e8e\\u6559\\u5b66\\u3002\",\"xtekky <br  /> The official gpt4free repository | various collection of powerful language models\"],\"legendgroup\":\"\",\"marker\":{\"color\":\"#636efa\",\"pattern\":{\"shape\":\"\"}},\"name\":\"\",\"offsetgroup\":\"\",\"orientation\":\"v\",\"showlegend\":false,\"textposition\":\"auto\",\"x\":[\"<a href='https://github.com/public-apis/public-apis'>public-apis</a>\",\"<a href='https://github.com/donnemartin/system-design-primer'>system-design-primer</a>\",\"<a href='https://github.com/vinta/awesome-python'>awesome-python</a>\",\"<a href='https://github.com/TheAlgorithms/Python'>Python</a>\",\"<a href='https://github.com/jackfrued/Python-100-Days'>Python-100-Days</a>\",\"<a href='https://github.com/ytdl-org/youtube-dl'>youtube-dl</a>\",\"<a href='https://github.com/AUTOMATIC1111/stable-diffusion-webui'>stable-diffusion-webui</a>\",\"<a href='https://github.com/huggingface/transformers'>transformers</a>\",\"<a href='https://github.com/521xueweihan/HelloGitHub'>HelloGitHub</a>\",\"<a href='https://github.com/nvbn/thefuck'>thefuck</a>\",\"<a href='https://github.com/langchain-ai/langchain'>langchain</a>\",\"<a href='https://github.com/tensorflow/models'>models</a>\",\"<a href='https://github.com/django/django'>django</a>\",\"<a href='https://github.com/pytorch/pytorch'>pytorch</a>\",\"<a href='https://github.com/tiangolo/fastapi'>fastapi</a>\",\"<a href='https://github.com/home-assistant/core'>core</a>\",\"<a href='https://github.com/yt-dlp/yt-dlp'>yt-dlp</a>\",\"<a href='https://github.com/pallets/flask'>flask</a>\",\"<a href='https://github.com/josephmisiti/awesome-machine-learning'>awesome-machine-learning</a>\",\"<a href='https://github.com/bregman-arie/devops-exercises'>devops-exercises</a>\",\"<a href='https://github.com/fighting41love/funNLP'>funNLP</a>\",\"<a href='https://github.com/ansible/ansible'>ansible</a>\",\"<a href='https://github.com/keras-team/keras'>keras</a>\",\"<a href='https://github.com/python/cpython'>cpython</a>\",\"<a href='https://github.com/scikit-learn/scikit-learn'>scikit-learn</a>\",\"<a href='https://github.com/3b1b/manim'>manim</a>\",\"<a href='https://github.com/openai/whisper'>whisper</a>\",\"<a href='https://github.com/swisskyrepo/PayloadsAllTheThings'>PayloadsAllTheThings</a>\",\"<a href='https://github.com/d2l-ai/d2l-zh'>d2l-zh</a>\",\"<a href='https://github.com/xtekky/gpt4free'>gpt4free</a>\"],\"xaxis\":\"x\",\"y\":[279967,247034,198423,175889,146624,127143,121889,120439,82233,81449,76968,76415,75667,75539,68394,67401,66445,65780,62780,61960,61708,60398,60308,58462,57430,56429,56227,55418,54016,53136],\"yaxis\":\"y\",\"type\":\"bar\"}],                        {\"template\":{\"data\":{\"histogram2dcontour\":[{\"type\":\"histogram2dcontour\",\"colorbar\":{\"outlinewidth\":0,\"ticks\":\"\"},\"colorscale\":[[0.0,\"#0d0887\"],[0.1111111111111111,\"#46039f\"],[0.2222222222222222,\"#7201a8\"],[0.3333333333333333,\"#9c179e\"],[0.4444444444444444,\"#bd3786\"],[0.5555555555555556,\"#d8576b\"],[0.6666666666666666,\"#ed7953\"],[0.7777777777777778,\"#fb9f3a\"],[0.8888888888888888,\"#fdca26\"],[1.0,\"#f0f921\"]]}],\"choropleth\":[{\"type\":\"choropleth\",\"colorbar\":{\"outlinewidth\":0,\"ticks\":\"\"}}],\"histogram2d\":[{\"type\":\"histogram2d\",\"colorbar\":{\"outlinewidth\":0,\"ticks\":\"\"},\"colorscale\":[[0.0,\"#0d0887\"],[0.1111111111111111,\"#46039f\"],[0.2222222222222222,\"#7201a8\"],[0.3333333333333333,\"#9c179e\"],[0.4444444444444444,\"#bd3786\"],[0.5555555555555556,\"#d8576b\"],[0.6666666666666666,\"#ed7953\"],[0.7777777777777778,\"#fb9f3a\"],[0.8888888888888888,\"#fdca26\"],[1.0,\"#f0f921\"]]}],\"heatmap\":[{\"type\":\"heatmap\",\"colorbar\":{\"outlinewidth\":0,\"ticks\":\"\"},\"colorscale\":[[0.0,\"#0d0887\"],[0.1111111111111111,\"#46039f\"],[0.2222222222222222,\"#7201a8\"],[0.3333333333333333,\"#9c179e\"],[0.4444444444444444,\"#bd3786\"],[0.5555555555555556,\"#d8576b\"],[0.6666666666666666,\"#ed7953\"],[0.7777777777777778,\"#fb9f3a\"],[0.8888888888888888,\"#fdca26\"],[1.0,\"#f0f921\"]]}],\"heatmapgl\":[{\"type\":\"heatmapgl\",\"colorbar\":{\"outlinewidth\":0,\"ticks\":\"\"},\"colorscale\":[[0.0,\"#0d0887\"],[0.1111111111111111,\"#46039f\"],[0.2222222222222222,\"#7201a8\"],[0.3333333333333333,\"#9c179e\"],[0.4444444444444444,\"#bd3786\"],[0.5555555555555556,\"#d8576b\"],[0.6666666666666666,\"#ed7953\"],[0.7777777777777778,\"#fb9f3a\"],[0.8888888888888888,\"#fdca26\"],[1.0,\"#f0f921\"]]}],\"contourcarpet\":[{\"type\":\"contourcarpet\",\"colorbar\":{\"outlinewidth\":0,\"ticks\":\"\"}}],\"contour\":[{\"type\":\"contour\",\"colorbar\":{\"outlinewidth\":0,\"ticks\":\"\"},\"colorscale\":[[0.0,\"#0d0887\"],[0.1111111111111111,\"#46039f\"],[0.2222222222222222,\"#7201a8\"],[0.3333333333333333,\"#9c179e\"],[0.4444444444444444,\"#bd3786\"],[0.5555555555555556,\"#d8576b\"],[0.6666666666666666,\"#ed7953\"],[0.7777777777777778,\"#fb9f3a\"],[0.8888888888888888,\"#fdca26\"],[1.0,\"#f0f921\"]]}],\"surface\":[{\"type\":\"surface\",\"colorbar\":{\"outlinewidth\":0,\"ticks\":\"\"},\"colorscale\":[[0.0,\"#0d0887\"],[0.1111111111111111,\"#46039f\"],[0.2222222222222222,\"#7201a8\"],[0.3333333333333333,\"#9c179e\"],[0.4444444444444444,\"#bd3786\"],[0.5555555555555556,\"#d8576b\"],[0.6666666666666666,\"#ed7953\"],[0.7777777777777778,\"#fb9f3a\"],[0.8888888888888888,\"#fdca26\"],[1.0,\"#f0f921\"]]}],\"mesh3d\":[{\"type\":\"mesh3d\",\"colorbar\":{\"outlinewidth\":0,\"ticks\":\"\"}}],\"scatter\":[{\"fillpattern\":{\"fillmode\":\"overlay\",\"size\":10,\"solidity\":0.2},\"type\":\"scatter\"}],\"parcoords\":[{\"type\":\"parcoords\",\"line\":{\"colorbar\":{\"outlinewidth\":0,\"ticks\":\"\"}}}],\"scatterpolargl\":[{\"type\":\"scatterpolargl\",\"marker\":{\"colorbar\":{\"outlinewidth\":0,\"ticks\":\"\"}}}],\"bar\":[{\"error_x\":{\"color\":\"#2a3f5f\"},\"error_y\":{\"color\":\"#2a3f5f\"},\"marker\":{\"line\":{\"color\":\"#E5ECF6\",\"width\":0.5},\"pattern\":{\"fillmode\":\"overlay\",\"size\":10,\"solidity\":0.2}},\"type\":\"bar\"}],\"scattergeo\":[{\"type\":\"scattergeo\",\"marker\":{\"colorbar\":{\"outlinewidth\":0,\"ticks\":\"\"}}}],\"scatterpolar\":[{\"type\":\"scatterpolar\",\"marker\":{\"colorbar\":{\"outlinewidth\":0,\"ticks\":\"\"}}}],\"histogram\":[{\"marker\":{\"pattern\":{\"fillmode\":\"overlay\",\"size\":10,\"solidity\":0.2}},\"type\":\"histogram\"}],\"scattergl\":[{\"type\":\"scattergl\",\"marker\":{\"colorbar\":{\"outlinewidth\":0,\"ticks\":\"\"}}}],\"scatter3d\":[{\"type\":\"scatter3d\",\"line\":{\"colorbar\":{\"outlinewidth\":0,\"ticks\":\"\"}},\"marker\":{\"colorbar\":{\"outlinewidth\":0,\"ticks\":\"\"}}}],\"scattermapbox\":[{\"type\":\"scattermapbox\",\"marker\":{\"colorbar\":{\"outlinewidth\":0,\"ticks\":\"\"}}}],\"scatterternary\":[{\"type\":\"scatterternary\",\"marker\":{\"colorbar\":{\"outlinewidth\":0,\"ticks\":\"\"}}}],\"scattercarpet\":[{\"type\":\"scattercarpet\",\"marker\":{\"colorbar\":{\"outlinewidth\":0,\"ticks\":\"\"}}}],\"carpet\":[{\"aaxis\":{\"endlinecolor\":\"#2a3f5f\",\"gridcolor\":\"white\",\"linecolor\":\"white\",\"minorgridcolor\":\"white\",\"startlinecolor\":\"#2a3f5f\"},\"baxis\":{\"endlinecolor\":\"#2a3f5f\",\"gridcolor\":\"white\",\"linecolor\":\"white\",\"minorgridcolor\":\"white\",\"startlinecolor\":\"#2a3f5f\"},\"type\":\"carpet\"}],\"table\":[{\"cells\":{\"fill\":{\"color\":\"#EBF0F8\"},\"line\":{\"color\":\"white\"}},\"header\":{\"fill\":{\"color\":\"#C8D4E3\"},\"line\":{\"color\":\"white\"}},\"type\":\"table\"}],\"barpolar\":[{\"marker\":{\"line\":{\"color\":\"#E5ECF6\",\"width\":0.5},\"pattern\":{\"fillmode\":\"overlay\",\"size\":10,\"solidity\":0.2}},\"type\":\"barpolar\"}],\"pie\":[{\"automargin\":true,\"type\":\"pie\"}]},\"layout\":{\"autotypenumbers\":\"strict\",\"colorway\":[\"#636efa\",\"#EF553B\",\"#00cc96\",\"#ab63fa\",\"#FFA15A\",\"#19d3f3\",\"#FF6692\",\"#B6E880\",\"#FF97FF\",\"#FECB52\"],\"font\":{\"color\":\"#2a3f5f\"},\"hovermode\":\"closest\",\"hoverlabel\":{\"align\":\"left\"},\"paper_bgcolor\":\"white\",\"plot_bgcolor\":\"#E5ECF6\",\"polar\":{\"bgcolor\":\"#E5ECF6\",\"angularaxis\":{\"gridcolor\":\"white\",\"linecolor\":\"white\",\"ticks\":\"\"},\"radialaxis\":{\"gridcolor\":\"white\",\"linecolor\":\"white\",\"ticks\":\"\"}},\"ternary\":{\"bgcolor\":\"#E5ECF6\",\"aaxis\":{\"gridcolor\":\"white\",\"linecolor\":\"white\",\"ticks\":\"\"},\"baxis\":{\"gridcolor\":\"white\",\"linecolor\":\"white\",\"ticks\":\"\"},\"caxis\":{\"gridcolor\":\"white\",\"linecolor\":\"white\",\"ticks\":\"\"}},\"coloraxis\":{\"colorbar\":{\"outlinewidth\":0,\"ticks\":\"\"}},\"colorscale\":{\"sequential\":[[0.0,\"#0d0887\"],[0.1111111111111111,\"#46039f\"],[0.2222222222222222,\"#7201a8\"],[0.3333333333333333,\"#9c179e\"],[0.4444444444444444,\"#bd3786\"],[0.5555555555555556,\"#d8576b\"],[0.6666666666666666,\"#ed7953\"],[0.7777777777777778,\"#fb9f3a\"],[0.8888888888888888,\"#fdca26\"],[1.0,\"#f0f921\"]],\"sequentialminus\":[[0.0,\"#0d0887\"],[0.1111111111111111,\"#46039f\"],[0.2222222222222222,\"#7201a8\"],[0.3333333333333333,\"#9c179e\"],[0.4444444444444444,\"#bd3786\"],[0.5555555555555556,\"#d8576b\"],[0.6666666666666666,\"#ed7953\"],[0.7777777777777778,\"#fb9f3a\"],[0.8888888888888888,\"#fdca26\"],[1.0,\"#f0f921\"]],\"diverging\":[[0,\"#8e0152\"],[0.1,\"#c51b7d\"],[0.2,\"#de77ae\"],[0.3,\"#f1b6da\"],[0.4,\"#fde0ef\"],[0.5,\"#f7f7f7\"],[0.6,\"#e6f5d0\"],[0.7,\"#b8e186\"],[0.8,\"#7fbc41\"],[0.9,\"#4d9221\"],[1,\"#276419\"]]},\"xaxis\":{\"gridcolor\":\"white\",\"linecolor\":\"white\",\"ticks\":\"\",\"title\":{\"standoff\":15},\"zerolinecolor\":\"white\",\"automargin\":true,\"zerolinewidth\":2},\"yaxis\":{\"gridcolor\":\"white\",\"linecolor\":\"white\",\"ticks\":\"\",\"title\":{\"standoff\":15},\"zerolinecolor\":\"white\",\"automargin\":true,\"zerolinewidth\":2},\"scene\":{\"xaxis\":{\"backgroundcolor\":\"#E5ECF6\",\"gridcolor\":\"white\",\"linecolor\":\"white\",\"showbackground\":true,\"ticks\":\"\",\"zerolinecolor\":\"white\",\"gridwidth\":2},\"yaxis\":{\"backgroundcolor\":\"#E5ECF6\",\"gridcolor\":\"white\",\"linecolor\":\"white\",\"showbackground\":true,\"ticks\":\"\",\"zerolinecolor\":\"white\",\"gridwidth\":2},\"zaxis\":{\"backgroundcolor\":\"#E5ECF6\",\"gridcolor\":\"white\",\"linecolor\":\"white\",\"showbackground\":true,\"ticks\":\"\",\"zerolinecolor\":\"white\",\"gridwidth\":2}},\"shapedefaults\":{\"line\":{\"color\":\"#2a3f5f\"}},\"annotationdefaults\":{\"arrowcolor\":\"#2a3f5f\",\"arrowhead\":0,\"arrowwidth\":1},\"geo\":{\"bgcolor\":\"white\",\"landcolor\":\"#E5ECF6\",\"subunitcolor\":\"white\",\"showland\":true,\"showlakes\":true,\"lakecolor\":\"white\"},\"title\":{\"x\":0.05},\"mapbox\":{\"style\":\"light\"}}},\"xaxis\":{\"anchor\":\"y\",\"domain\":[0.0,1.0],\"title\":{\"text\":\"Repository\",\"font\":{\"size\":20}}},\"yaxis\":{\"anchor\":\"x\",\"domain\":[0.0,1.0],\"title\":{\"text\":\"Stars\",\"font\":{\"size\":20}}},\"legend\":{\"tracegroupgap\":0},\"title\":{\"text\":\"Most-Starred Python Projects on GitHub\",\"font\":{\"size\":28}},\"barmode\":\"relative\"},                        {\"responsive\": true}                    ).then(function(){\n",
       "                            \n",
       "var gd = document.getElementById('de718da9-0929-478a-becb-a71f1fcf3340');\n",
       "var x = new MutationObserver(function (mutations, observer) {{\n",
       "        var display = window.getComputedStyle(gd).display;\n",
       "        if (!display || display === 'none') {{\n",
       "            console.log([gd, 'removed!']);\n",
       "            Plotly.purge(gd);\n",
       "            observer.disconnect();\n",
       "        }}\n",
       "}});\n",
       "\n",
       "// Listen for the removal of the full notebook cells\n",
       "var notebookContainer = gd.closest('#notebook-container');\n",
       "if (notebookContainer) {{\n",
       "    x.observe(notebookContainer, {childList: true});\n",
       "}}\n",
       "\n",
       "// Listen for the clearing of the current output cell\n",
       "var outputEl = gd.closest('.output');\n",
       "if (outputEl) {{\n",
       "    x.observe(outputEl, {childList: true});\n",
       "}}\n",
       "\n",
       "                        })                };                });            </script>        </div>"
      ]
     },
     "metadata": {},
     "output_type": "display_data"
    }
   ],
   "source": [
    "import requests\n",
    "import plotly.express as px\n",
    "\n",
    "#Make an API call and check the response\n",
    "url = \"https://api.github.com/search/repositories\"\n",
    "url += \"?q=language:python+sort:stars+stars:>10000\"\n",
    "\n",
    "headers = {\"Accept\": \"application/vnd.github.v3+json\"}\n",
    "r = requests.get(url, headers=headers)\n",
    "print(\"Status Code: {}\".format(r.status_code))\n",
    "\n",
    "#Process the overall results\n",
    "response_dict = r.json()\n",
    "print(\"Total repositories: {}\".format(response_dict['total_count']) )\n",
    "print(\"Complete results: {}\".format(not response_dict['incomplete_results']))\n",
    "\n",
    "#Process repository information\n",
    "repo_dicts = response_dict['items']\n",
    "repo_links, stars, hover_texts = [], [], []\n",
    "\n",
    "for repo_dict in repo_dicts:\n",
    "    repo_name = repo_dict['name']\n",
    "    repo_url = repo_dict['html_url']\n",
    "    stars.append(repo_dict['stargazers_count'])\n",
    "    repo_link = f\"<a href='{repo_url}'>{repo_name}</a>\"\n",
    "    repo_links.append(repo_link)\n",
    "    \n",
    "    \n",
    "    #Build hover texts\n",
    "    owner = repo_dict['owner']['login']\n",
    "    description = repo_dict['description']\n",
    "    hover_text = f\"{owner} <br  /> {description}\"\n",
    "    hover_texts.append(hover_text)\n",
    "    \n",
    "    \n",
    "\n",
    "#Make visualisation\n",
    "title = \"Most-Starred Python Projects on GitHub\"\n",
    "labels = {'x': 'Repository', 'y': 'Stars'}\n",
    "fig = px.bar(x=repo_links, y=stars, title=title, labels=labels, hover_name=hover_texts)\n",
    "\n",
    "fig.update_layout(title_font_size=28, xaxis_title_font_size=20, yaxis_title_font_size=20)\n",
    "\n",
    "fig.show()\n"
   ]
  },
  {
   "cell_type": "code",
   "execution_count": null,
   "id": "ae008ed5",
   "metadata": {},
   "outputs": [],
   "source": []
  }
 ],
 "metadata": {
  "kernelspec": {
   "display_name": "Python 3 (ipykernel)",
   "language": "python",
   "name": "python3"
  },
  "language_info": {
   "codemirror_mode": {
    "name": "ipython",
    "version": 3
   },
   "file_extension": ".py",
   "mimetype": "text/x-python",
   "name": "python",
   "nbconvert_exporter": "python",
   "pygments_lexer": "ipython3",
   "version": "3.11.5"
  }
 },
 "nbformat": 4,
 "nbformat_minor": 5
}
